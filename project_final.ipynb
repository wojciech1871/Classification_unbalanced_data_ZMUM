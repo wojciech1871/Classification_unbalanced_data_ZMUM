{
 "cells": [
  {
   "cell_type": "code",
   "execution_count": 420,
   "metadata": {},
   "outputs": [],
   "source": [
    "import numpy as np\n",
    "import pandas as pd\n",
    "import matplotlib.pyplot as plt\n",
    "\n",
    "from sklearn.model_selection import *\n",
    "from sklearn.preprocessing import *\n",
    "from sklearn.metrics import *\n",
    "from sklearn.impute import *\n",
    "from sklearn.decomposition import *\n",
    "from sklearn.feature_selection import *\n",
    "\n",
    "import category_encoders as ce\n",
    "from collections import defaultdict"
   ]
  },
  {
   "cell_type": "markdown",
   "metadata": {},
   "source": [
    "## 1. Wczytanie danych"
   ]
  },
  {
   "cell_type": "code",
   "execution_count": 421,
   "metadata": {},
   "outputs": [],
   "source": [
    "train_df = pd.read_csv(\"train.txt\", sep = \" \").sort_index()\n",
    "test_df = pd.read_csv(\"testx.txt\", sep = \" \").sort_index()"
   ]
  },
  {
   "cell_type": "markdown",
   "metadata": {},
   "source": [
    "## 2. Usunięcie pustych kolumn"
   ]
  },
  {
   "cell_type": "code",
   "execution_count": 422,
   "metadata": {},
   "outputs": [],
   "source": [
    "def drop_empty_columns(df):\n",
    "    columns_to_drop =[]\n",
    "    for column in df.columns:\n",
    "        if df[column].isna().all():\n",
    "            columns_to_drop.append(column)\n",
    "    if columns_to_drop:\n",
    "        ret_df = df.drop(columns=columns_to_drop)\n",
    "    return ret_df"
   ]
  },
  {
   "cell_type": "code",
   "execution_count": 423,
   "metadata": {},
   "outputs": [],
   "source": [
    "train_df = drop_empty_columns(train_df)"
   ]
  },
  {
   "cell_type": "markdown",
   "metadata": {},
   "source": [
    "## 3. Zakodowanie kolumn typu str, obj do category"
   ]
  },
  {
   "cell_type": "code",
   "execution_count": 424,
   "metadata": {},
   "outputs": [],
   "source": [
    "# def object_as_category(df):\n",
    "#     new_df = df.copy()\n",
    "#     categorical_columns = new_df.select_dtypes(exclude=[\"number\"]).columns\n",
    "#     try:\n",
    "#         new_df[categorical_columns] = new_df[categorical_columns].fillna(\"NAN\").astype(\"category\")\n",
    "#         return new_df\n",
    "#     except ValueError:\n",
    "#         print(\"No categorical columns\")"
   ]
  },
  {
   "cell_type": "code",
   "execution_count": 425,
   "metadata": {},
   "outputs": [],
   "source": [
    "# train_df = object_as_category(train_df)"
   ]
  },
  {
   "cell_type": "markdown",
   "metadata": {},
   "source": [
    "## 4. Usunięcie kolumn kategorycznych powtarzających się"
   ]
  },
  {
   "cell_type": "code",
   "execution_count": 426,
   "metadata": {},
   "outputs": [],
   "source": [
    "def count_categories_in_columns(df):\n",
    "    cat_df = df.select_dtypes(exclude=[\"number\"])\n",
    "    num_unique_values_map = defaultdict(list)\n",
    "    for i in range(0, cat_df.shape[1]):\n",
    "        column = cat_df.iloc[:, i]\n",
    "        num_unique = column.nunique(dropna=False)\n",
    "        num_unique_values_map[num_unique].append(column.name)\n",
    "    return num_unique_values_map"
   ]
  },
  {
   "cell_type": "code",
   "execution_count": 427,
   "metadata": {},
   "outputs": [
    {
     "data": {
      "text/plain": [
       "defaultdict(list,\n",
       "            {2: ['Var191', 'Var211', 'Var213', 'Var215', 'Var224'],\n",
       "             352: ['Var192'],\n",
       "             51: ['Var193'],\n",
       "             4: ['Var194', 'Var205', 'Var225'],\n",
       "             23: ['Var195', 'Var219', 'Var226'],\n",
       "             3: ['Var196', 'Var201', 'Var208', 'Var218'],\n",
       "             214: ['Var197'],\n",
       "             3876: ['Var198', 'Var220', 'Var222'],\n",
       "             4384: ['Var199'],\n",
       "             13331: ['Var200', 'Var214'],\n",
       "             5553: ['Var202'],\n",
       "             6: ['Var203', 'Var210'],\n",
       "             100: ['Var204'],\n",
       "             22: ['Var206'],\n",
       "             14: ['Var207'],\n",
       "             80: ['Var212'],\n",
       "             1834: ['Var216'],\n",
       "             12495: ['Var217'],\n",
       "             7: ['Var221', 'Var227'],\n",
       "             5: ['Var223', 'Var229'],\n",
       "             30: ['Var228']})"
      ]
     },
     "execution_count": 427,
     "metadata": {},
     "output_type": "execute_result"
    }
   ],
   "source": [
    "num_unique_values_map = count_categories_in_columns(train_df)\n",
    "num_unique_values_map"
   ]
  },
  {
   "cell_type": "code",
   "execution_count": 428,
   "metadata": {},
   "outputs": [],
   "source": [
    "def drop_repeated_cat_columns(df, num_unique_values_map):\n",
    "    columns_to_drop = set()\n",
    "    for key, value in num_unique_values_map.items():\n",
    "        len_col_list = len(value)\n",
    "        if len_col_list > 1:\n",
    "            for i in range(len_col_list):\n",
    "                col_name_i = value[i]\n",
    "                for j in range(i+1, len_col_list):\n",
    "                    col_name_j = value[j]\n",
    "                    lab_encoder = ce.OrdinalEncoder()\n",
    "                    transformed = lab_encoder.fit_transform(df[[col_name_i, col_name_j]])\n",
    "                    if accuracy_score(transformed.iloc[:, 0], transformed.iloc[:, 1]) > 0.99:\n",
    "                        columns_to_drop.add(col_name_i)\n",
    "                        #print(\"Break\" ,key,  i, j, accuracy_score(transformed.iloc[:, 0], transformed.iloc[:, 1]))\n",
    "                        break\n",
    "    return df.drop(columns=columns_to_drop)"
   ]
  },
  {
   "cell_type": "code",
   "execution_count": 429,
   "metadata": {},
   "outputs": [],
   "source": [
    "train_df = drop_repeated_cat_columns(train_df, num_unique_values_map)"
   ]
  },
  {
   "cell_type": "markdown",
   "metadata": {},
   "source": [
    "## 5. Problem niewystępujących kategorii w zbiorze treningowym"
   ]
  },
  {
   "cell_type": "code",
   "execution_count": 430,
   "metadata": {},
   "outputs": [
    {
     "data": {
      "text/plain": [
       "defaultdict(list,\n",
       "            {2: ['Var191', 'Var211', 'Var213', 'Var215', 'Var224'],\n",
       "             362: ['Var192'],\n",
       "             51: ['Var193'],\n",
       "             4: ['Var194', 'Var196', 'Var205', 'Var225'],\n",
       "             23: ['Var195', 'Var219', 'Var226'],\n",
       "             226: ['Var197'],\n",
       "             5074: ['Var199'],\n",
       "             3: ['Var201', 'Var208', 'Var218'],\n",
       "             5714: ['Var202'],\n",
       "             6: ['Var203', 'Var210'],\n",
       "             100: ['Var204'],\n",
       "             22: ['Var206'],\n",
       "             14: ['Var207'],\n",
       "             81: ['Var212'],\n",
       "             15416: ['Var214'],\n",
       "             2016: ['Var216'],\n",
       "             13991: ['Var217'],\n",
       "             7: ['Var221', 'Var227'],\n",
       "             4291: ['Var222'],\n",
       "             5: ['Var223', 'Var229'],\n",
       "             30: ['Var228'],\n",
       "             2049: ['Var198', 'Var220'],\n",
       "             4322: ['Var200']})"
      ]
     },
     "execution_count": 430,
     "metadata": {},
     "output_type": "execute_result"
    }
   ],
   "source": [
    "mod_train = train_df.iloc[:,:-1]\n",
    "joined_df = pd.concat([mod_train, test_df], sort=False).sort_index()\n",
    "count_categories_in_columns(joined_df)"
   ]
  },
  {
   "cell_type": "markdown",
   "metadata": {},
   "source": [
    "##  6. Funkcja licząca liczbę kategorii o konkretnej liczbie wystąpień"
   ]
  },
  {
   "cell_type": "code",
   "execution_count": 431,
   "metadata": {},
   "outputs": [],
   "source": [
    "def count_categories_by_size(df):\n",
    "    columns_dict = {}\n",
    "    cat_columns = df.select_dtypes(exclude=[\"number\"]).columns\n",
    "    for column in cat_columns:\n",
    "        columns_dict[column] = train_df[column].value_counts(dropna=False).to_frame().groupby(column).size()\n",
    "    return columns_dict"
   ]
  },
  {
   "cell_type": "code",
   "execution_count": 432,
   "metadata": {},
   "outputs": [],
   "source": [
    "column_dict_categories_by_size = count_categories_by_size(train_df)"
   ]
  },
  {
   "cell_type": "markdown",
   "metadata": {},
   "source": [
    "## 7. Funkcja określająca frakcję jedynek i liczność w danej kategorii"
   ]
  },
  {
   "cell_type": "code",
   "execution_count": 433,
   "metadata": {},
   "outputs": [],
   "source": [
    "def count_ones_fraction_and_size_in_category(df):\n",
    "    columns_dict = {}\n",
    "    cat_columns = df.select_dtypes(exclude=[\"number\"]).columns\n",
    "    for column in cat_columns:\n",
    "        ones_fraction = df[[column, \"class\"]].fillna(-1).groupby(column)[\"class\"].mean()\n",
    "        cat_size = df[[column]].fillna(-1).groupby(column).size()\n",
    "        columns_dict[column] = pd.DataFrame(data={\"ones_fraction\": ones_fraction, \"cat_size\": cat_size})\n",
    "    return columns_dict"
   ]
  },
  {
   "cell_type": "code",
   "execution_count": 434,
   "metadata": {},
   "outputs": [],
   "source": [
    "column_dict_categories_description = count_ones_fraction_and_size_in_category(train_df)"
   ]
  },
  {
   "cell_type": "code",
   "execution_count": 435,
   "metadata": {},
   "outputs": [
    {
     "data": {
      "text/html": [
       "<div>\n",
       "<style scoped>\n",
       "    .dataframe tbody tr th:only-of-type {\n",
       "        vertical-align: middle;\n",
       "    }\n",
       "\n",
       "    .dataframe tbody tr th {\n",
       "        vertical-align: top;\n",
       "    }\n",
       "\n",
       "    .dataframe thead th {\n",
       "        text-align: right;\n",
       "    }\n",
       "</style>\n",
       "<table border=\"1\" class=\"dataframe\">\n",
       "  <thead>\n",
       "    <tr style=\"text-align: right;\">\n",
       "      <th></th>\n",
       "      <th>ones_fraction</th>\n",
       "      <th>cat_size</th>\n",
       "    </tr>\n",
       "    <tr>\n",
       "      <th>Var197</th>\n",
       "      <th></th>\n",
       "      <th></th>\n",
       "    </tr>\n",
       "  </thead>\n",
       "  <tbody>\n",
       "    <tr>\n",
       "      <th>-1</th>\n",
       "      <td>0.025424</td>\n",
       "      <td>118</td>\n",
       "    </tr>\n",
       "    <tr>\n",
       "      <th>0LaQ</th>\n",
       "      <td>0.068627</td>\n",
       "      <td>102</td>\n",
       "    </tr>\n",
       "    <tr>\n",
       "      <th>0WHw</th>\n",
       "      <td>0.111111</td>\n",
       "      <td>180</td>\n",
       "    </tr>\n",
       "    <tr>\n",
       "      <th>0Xwj</th>\n",
       "      <td>0.076087</td>\n",
       "      <td>3680</td>\n",
       "    </tr>\n",
       "    <tr>\n",
       "      <th>0Y9G</th>\n",
       "      <td>0.083582</td>\n",
       "      <td>335</td>\n",
       "    </tr>\n",
       "  </tbody>\n",
       "</table>\n",
       "</div>"
      ],
      "text/plain": [
       "        ones_fraction  cat_size\n",
       "Var197                         \n",
       "-1           0.025424       118\n",
       "0LaQ         0.068627       102\n",
       "0WHw         0.111111       180\n",
       "0Xwj         0.076087      3680\n",
       "0Y9G         0.083582       335"
      ]
     },
     "execution_count": 435,
     "metadata": {},
     "output_type": "execute_result"
    }
   ],
   "source": [
    "column_dict_categories_description[\"Var197\"].head()"
   ]
  },
  {
   "cell_type": "markdown",
   "metadata": {},
   "source": [
    "## 8. Zdropowanie kolumn z kategoriami o liczności więcej niż "
   ]
  },
  {
   "cell_type": "code",
   "execution_count": 436,
   "metadata": {},
   "outputs": [],
   "source": [
    "def drop_columns_above_n_categories(df, n):\n",
    "    columns_to_drop = set()\n",
    "    cat_columns = df.select_dtypes(exclude=[\"number\"]).columns\n",
    "    for column in cat_columns:\n",
    "        if train_df[column].nunique(dropna=False) > n:\n",
    "            columns_to_drop.add(column)\n",
    "    return df.drop(columns=columns_to_drop)"
   ]
  },
  {
   "cell_type": "code",
   "execution_count": 437,
   "metadata": {},
   "outputs": [],
   "source": [
    "train_df = drop_columns_above_n_categories(train_df, 100)"
   ]
  },
  {
   "cell_type": "markdown",
   "metadata": {},
   "source": [
    "## 9. Wypełnienie pustych zmiennych numerycznych i dodanie kolumn informujących o NaN"
   ]
  },
  {
   "cell_type": "code",
   "execution_count": 438,
   "metadata": {},
   "outputs": [],
   "source": [
    "def fill_na_in_numerical_add_column(df):\n",
    "    new_df = df.copy()\n",
    "    numerical_columns = new_df.select_dtypes(include=[\"number\"]).columns\n",
    "    for column in numerical_columns:\n",
    "        if new_df[column].isna().any():\n",
    "            new_df[column+\"_isfilled\"] = new_df[column].isna().map({True:1, False:0})\n",
    "        new_df[column] = new_df[column].fillna(new_df[column].median())\n",
    "    return new_df"
   ]
  },
  {
   "cell_type": "code",
   "execution_count": 439,
   "metadata": {},
   "outputs": [],
   "source": [
    "train_df = fill_na_in_numerical_add_column(train_df)"
   ]
  },
  {
   "cell_type": "code",
   "execution_count": 440,
   "metadata": {},
   "outputs": [
    {
     "data": {
      "text/plain": [
       "(40000, 373)"
      ]
     },
     "execution_count": 440,
     "metadata": {},
     "output_type": "execute_result"
    }
   ],
   "source": [
    "train_df.shape"
   ]
  },
  {
   "cell_type": "markdown",
   "metadata": {},
   "source": [
    "## 10. Target encoding"
   ]
  },
  {
   "cell_type": "code",
   "execution_count": 459,
   "metadata": {},
   "outputs": [],
   "source": [
    "import xgboost\n",
    "import lightgbm\n",
    "import catboost\n",
    "from sklearn.ensemble import RandomForestClassifier"
   ]
  },
  {
   "cell_type": "code",
   "execution_count": 460,
   "metadata": {},
   "outputs": [],
   "source": [
    "def calculate_scores(y_true, y_pred):\n",
    "    acc = accuracy_score(y_true, y_pred)\n",
    "    recall = recall_score(y_true, y_pred)\n",
    "    precision = precision_score(y_true, y_pred)\n",
    "    return acc, recall, precision"
   ]
  },
  {
   "cell_type": "code",
   "execution_count": 461,
   "metadata": {},
   "outputs": [],
   "source": [
    "# cat_columns = train_df.select_dtypes(exclude=[\"number\"]).columns\n",
    "# for column in cat_columns:\n",
    "#     train_df[column] = train_df[column].astype(\"category\").cat.codes"
   ]
  },
  {
   "cell_type": "code",
   "execution_count": 462,
   "metadata": {},
   "outputs": [],
   "source": [
    "label_encoder = ce.BinaryEncoder()\n",
    "#label_encoder = ce.OrdinalEncoder()\n",
    "X = train_df.loc[:, train_df.columns != \"class\"]\n",
    "y = train_df[\"class\"]\n",
    "label_encoder.fit(X)\n",
    "X_train, X_test, y_train, y_test = train_test_split(X, y, test_size=0.33, random_state=123)"
   ]
  },
  {
   "cell_type": "code",
   "execution_count": 463,
   "metadata": {},
   "outputs": [],
   "source": [
    "X_train = label_encoder.transform(X_train)\n",
    "X_test = label_encoder.transform(X_test)"
   ]
  },
  {
   "cell_type": "markdown",
   "metadata": {},
   "source": [
    "#### XGBModel"
   ]
  },
  {
   "cell_type": "code",
   "execution_count": 464,
   "metadata": {},
   "outputs": [
    {
     "name": "stdout",
     "output_type": "stream",
     "text": [
      "[0]\tvalidation_0-logloss:0.614884\n",
      "Will train until validation_0-logloss hasn't improved in 100 rounds.\n",
      "[1]\tvalidation_0-logloss:0.550759\n",
      "[2]\tvalidation_0-logloss:0.497555\n",
      "[3]\tvalidation_0-logloss:0.452855\n",
      "[4]\tvalidation_0-logloss:0.414973\n",
      "[5]\tvalidation_0-logloss:0.382556\n",
      "[6]\tvalidation_0-logloss:0.354851\n",
      "[7]\tvalidation_0-logloss:0.330882\n",
      "[8]\tvalidation_0-logloss:0.310194\n",
      "[9]\tvalidation_0-logloss:0.292144\n",
      "[10]\tvalidation_0-logloss:0.276574\n",
      "[11]\tvalidation_0-logloss:0.262958\n",
      "[12]\tvalidation_0-logloss:0.251026\n",
      "[13]\tvalidation_0-logloss:0.240696\n",
      "[14]\tvalidation_0-logloss:0.231622\n",
      "[15]\tvalidation_0-logloss:0.223584\n",
      "[16]\tvalidation_0-logloss:0.216673\n",
      "[17]\tvalidation_0-logloss:0.21058\n",
      "[18]\tvalidation_0-logloss:0.205211\n",
      "[19]\tvalidation_0-logloss:0.200513\n",
      "[20]\tvalidation_0-logloss:0.196394\n",
      "[21]\tvalidation_0-logloss:0.192805\n",
      "[22]\tvalidation_0-logloss:0.189665\n",
      "[23]\tvalidation_0-logloss:0.186896\n",
      "[24]\tvalidation_0-logloss:0.18449\n",
      "[25]\tvalidation_0-logloss:0.18238\n",
      "[26]\tvalidation_0-logloss:0.180546\n",
      "[27]\tvalidation_0-logloss:0.178952\n",
      "[28]\tvalidation_0-logloss:0.17752\n",
      "[29]\tvalidation_0-logloss:0.176304\n",
      "[30]\tvalidation_0-logloss:0.175223\n",
      "[31]\tvalidation_0-logloss:0.174313\n",
      "[32]\tvalidation_0-logloss:0.173481\n",
      "[33]\tvalidation_0-logloss:0.172827\n",
      "[34]\tvalidation_0-logloss:0.172198\n",
      "[35]\tvalidation_0-logloss:0.171607\n",
      "[36]\tvalidation_0-logloss:0.171065\n",
      "[37]\tvalidation_0-logloss:0.170619\n",
      "[38]\tvalidation_0-logloss:0.170243\n",
      "[39]\tvalidation_0-logloss:0.169837\n",
      "[40]\tvalidation_0-logloss:0.169534\n",
      "[41]\tvalidation_0-logloss:0.169268\n",
      "[42]\tvalidation_0-logloss:0.168997\n",
      "[43]\tvalidation_0-logloss:0.16876\n",
      "[44]\tvalidation_0-logloss:0.168518\n",
      "[45]\tvalidation_0-logloss:0.168402\n",
      "[46]\tvalidation_0-logloss:0.168137\n",
      "[47]\tvalidation_0-logloss:0.167952\n",
      "[48]\tvalidation_0-logloss:0.167721\n",
      "[49]\tvalidation_0-logloss:0.167592\n",
      "[50]\tvalidation_0-logloss:0.167326\n",
      "[51]\tvalidation_0-logloss:0.16721\n",
      "[52]\tvalidation_0-logloss:0.167138\n",
      "[53]\tvalidation_0-logloss:0.167024\n",
      "[54]\tvalidation_0-logloss:0.166949\n",
      "[55]\tvalidation_0-logloss:0.166891\n",
      "[56]\tvalidation_0-logloss:0.166794\n",
      "[57]\tvalidation_0-logloss:0.166622\n",
      "[58]\tvalidation_0-logloss:0.166497\n",
      "[59]\tvalidation_0-logloss:0.166419\n",
      "[60]\tvalidation_0-logloss:0.166429\n",
      "[61]\tvalidation_0-logloss:0.166297\n",
      "[62]\tvalidation_0-logloss:0.16615\n",
      "[63]\tvalidation_0-logloss:0.166108\n",
      "[64]\tvalidation_0-logloss:0.16612\n",
      "[65]\tvalidation_0-logloss:0.166144\n",
      "[66]\tvalidation_0-logloss:0.165968\n",
      "[67]\tvalidation_0-logloss:0.165923\n",
      "[68]\tvalidation_0-logloss:0.165878\n",
      "[69]\tvalidation_0-logloss:0.165866\n",
      "[70]\tvalidation_0-logloss:0.165837\n",
      "[71]\tvalidation_0-logloss:0.165826\n",
      "[72]\tvalidation_0-logloss:0.16577\n",
      "[73]\tvalidation_0-logloss:0.165774\n",
      "[74]\tvalidation_0-logloss:0.165655\n",
      "[75]\tvalidation_0-logloss:0.165687\n",
      "[76]\tvalidation_0-logloss:0.165686\n",
      "[77]\tvalidation_0-logloss:0.165683\n",
      "[78]\tvalidation_0-logloss:0.165625\n",
      "[79]\tvalidation_0-logloss:0.165623\n",
      "[80]\tvalidation_0-logloss:0.165524\n",
      "[81]\tvalidation_0-logloss:0.16557\n",
      "[82]\tvalidation_0-logloss:0.165488\n",
      "[83]\tvalidation_0-logloss:0.165515\n",
      "[84]\tvalidation_0-logloss:0.165531\n",
      "[85]\tvalidation_0-logloss:0.165526\n",
      "[86]\tvalidation_0-logloss:0.165511\n",
      "[87]\tvalidation_0-logloss:0.165494\n",
      "[88]\tvalidation_0-logloss:0.165468\n",
      "[89]\tvalidation_0-logloss:0.165369\n",
      "[90]\tvalidation_0-logloss:0.165272\n",
      "[91]\tvalidation_0-logloss:0.165265\n",
      "[92]\tvalidation_0-logloss:0.165249\n",
      "[93]\tvalidation_0-logloss:0.165257\n",
      "[94]\tvalidation_0-logloss:0.165291\n",
      "[95]\tvalidation_0-logloss:0.165217\n",
      "[96]\tvalidation_0-logloss:0.165237\n",
      "[97]\tvalidation_0-logloss:0.165215\n",
      "[98]\tvalidation_0-logloss:0.165222\n",
      "[99]\tvalidation_0-logloss:0.165245\n",
      "[100]\tvalidation_0-logloss:0.165217\n",
      "[101]\tvalidation_0-logloss:0.165208\n",
      "[102]\tvalidation_0-logloss:0.165217\n",
      "[103]\tvalidation_0-logloss:0.1652\n",
      "[104]\tvalidation_0-logloss:0.16513\n",
      "[105]\tvalidation_0-logloss:0.165165\n",
      "[106]\tvalidation_0-logloss:0.165157\n",
      "[107]\tvalidation_0-logloss:0.165148\n",
      "[108]\tvalidation_0-logloss:0.165111\n",
      "[109]\tvalidation_0-logloss:0.1651\n",
      "[110]\tvalidation_0-logloss:0.165104\n",
      "[111]\tvalidation_0-logloss:0.165118\n",
      "[112]\tvalidation_0-logloss:0.165024\n",
      "[113]\tvalidation_0-logloss:0.165026\n",
      "[114]\tvalidation_0-logloss:0.165055\n",
      "[115]\tvalidation_0-logloss:0.165087\n",
      "[116]\tvalidation_0-logloss:0.165037\n",
      "[117]\tvalidation_0-logloss:0.165027\n",
      "[118]\tvalidation_0-logloss:0.164982\n",
      "[119]\tvalidation_0-logloss:0.164912\n",
      "[120]\tvalidation_0-logloss:0.16494\n",
      "[121]\tvalidation_0-logloss:0.164892\n",
      "[122]\tvalidation_0-logloss:0.164883\n",
      "[123]\tvalidation_0-logloss:0.164883\n",
      "[124]\tvalidation_0-logloss:0.16484\n",
      "[125]\tvalidation_0-logloss:0.164838\n",
      "[126]\tvalidation_0-logloss:0.164797\n",
      "[127]\tvalidation_0-logloss:0.164834\n",
      "[128]\tvalidation_0-logloss:0.16487\n",
      "[129]\tvalidation_0-logloss:0.164821\n",
      "[130]\tvalidation_0-logloss:0.164817\n",
      "[131]\tvalidation_0-logloss:0.164804\n",
      "[132]\tvalidation_0-logloss:0.164804\n",
      "[133]\tvalidation_0-logloss:0.164828\n",
      "[134]\tvalidation_0-logloss:0.164829\n",
      "[135]\tvalidation_0-logloss:0.164883\n",
      "[136]\tvalidation_0-logloss:0.164855\n",
      "[137]\tvalidation_0-logloss:0.16479\n",
      "[138]\tvalidation_0-logloss:0.164818\n",
      "[139]\tvalidation_0-logloss:0.164761\n",
      "[140]\tvalidation_0-logloss:0.164754\n",
      "[141]\tvalidation_0-logloss:0.164721\n",
      "[142]\tvalidation_0-logloss:0.164718\n",
      "[143]\tvalidation_0-logloss:0.164723\n",
      "[144]\tvalidation_0-logloss:0.164751\n",
      "[145]\tvalidation_0-logloss:0.164757\n",
      "[146]\tvalidation_0-logloss:0.164703\n",
      "[147]\tvalidation_0-logloss:0.164675\n",
      "[148]\tvalidation_0-logloss:0.164667\n",
      "[149]\tvalidation_0-logloss:0.164658\n",
      "[150]\tvalidation_0-logloss:0.164591\n",
      "[151]\tvalidation_0-logloss:0.164582\n",
      "[152]\tvalidation_0-logloss:0.164591\n",
      "[153]\tvalidation_0-logloss:0.164587\n",
      "[154]\tvalidation_0-logloss:0.164617\n",
      "[155]\tvalidation_0-logloss:0.164634\n",
      "[156]\tvalidation_0-logloss:0.164609\n",
      "[157]\tvalidation_0-logloss:0.164642\n",
      "[158]\tvalidation_0-logloss:0.164583\n",
      "[159]\tvalidation_0-logloss:0.164563\n",
      "[160]\tvalidation_0-logloss:0.164505\n",
      "[161]\tvalidation_0-logloss:0.164503\n",
      "[162]\tvalidation_0-logloss:0.164497\n",
      "[163]\tvalidation_0-logloss:0.164549\n",
      "[164]\tvalidation_0-logloss:0.16455\n",
      "[165]\tvalidation_0-logloss:0.164524\n",
      "[166]\tvalidation_0-logloss:0.164519\n",
      "[167]\tvalidation_0-logloss:0.164511\n",
      "[168]\tvalidation_0-logloss:0.164537\n",
      "[169]\tvalidation_0-logloss:0.164571\n",
      "[170]\tvalidation_0-logloss:0.164543\n",
      "[171]\tvalidation_0-logloss:0.164582\n",
      "[172]\tvalidation_0-logloss:0.164582\n",
      "[173]\tvalidation_0-logloss:0.164535\n",
      "[174]\tvalidation_0-logloss:0.164551\n",
      "[175]\tvalidation_0-logloss:0.164525\n",
      "[176]\tvalidation_0-logloss:0.164515\n",
      "[177]\tvalidation_0-logloss:0.16461\n",
      "[178]\tvalidation_0-logloss:0.164652\n",
      "[179]\tvalidation_0-logloss:0.164663\n",
      "[180]\tvalidation_0-logloss:0.164685\n",
      "[181]\tvalidation_0-logloss:0.164702\n",
      "[182]\tvalidation_0-logloss:0.164729\n",
      "[183]\tvalidation_0-logloss:0.164729\n",
      "[184]\tvalidation_0-logloss:0.164748\n",
      "[185]\tvalidation_0-logloss:0.164765\n",
      "[186]\tvalidation_0-logloss:0.164789\n",
      "[187]\tvalidation_0-logloss:0.164797\n",
      "[188]\tvalidation_0-logloss:0.164797\n",
      "[189]\tvalidation_0-logloss:0.164748\n",
      "[190]\tvalidation_0-logloss:0.164734\n",
      "[191]\tvalidation_0-logloss:0.164771\n",
      "[192]\tvalidation_0-logloss:0.164782\n",
      "[193]\tvalidation_0-logloss:0.164782\n",
      "[194]\tvalidation_0-logloss:0.164809\n",
      "[195]\tvalidation_0-logloss:0.164807\n",
      "[196]\tvalidation_0-logloss:0.164816\n",
      "[197]\tvalidation_0-logloss:0.164814\n",
      "[198]\tvalidation_0-logloss:0.164812\n",
      "[199]\tvalidation_0-logloss:0.164843\n",
      "[200]\tvalidation_0-logloss:0.164832\n",
      "[201]\tvalidation_0-logloss:0.164824\n",
      "[202]\tvalidation_0-logloss:0.164825\n",
      "[203]\tvalidation_0-logloss:0.164853\n",
      "[204]\tvalidation_0-logloss:0.164844\n",
      "[205]\tvalidation_0-logloss:0.164906\n",
      "[206]\tvalidation_0-logloss:0.164922\n",
      "[207]\tvalidation_0-logloss:0.164902\n",
      "[208]\tvalidation_0-logloss:0.164925\n",
      "[209]\tvalidation_0-logloss:0.16493\n",
      "[210]\tvalidation_0-logloss:0.164929\n",
      "[211]\tvalidation_0-logloss:0.164933\n",
      "[212]\tvalidation_0-logloss:0.164964\n",
      "[213]\tvalidation_0-logloss:0.164989\n",
      "[214]\tvalidation_0-logloss:0.16505\n",
      "[215]\tvalidation_0-logloss:0.165077\n",
      "[216]\tvalidation_0-logloss:0.165111\n",
      "[217]\tvalidation_0-logloss:0.165176\n",
      "[218]\tvalidation_0-logloss:0.165194\n",
      "[219]\tvalidation_0-logloss:0.165205\n",
      "[220]\tvalidation_0-logloss:0.165261\n",
      "[221]\tvalidation_0-logloss:0.165313\n",
      "[222]\tvalidation_0-logloss:0.165288\n",
      "[223]\tvalidation_0-logloss:0.165329\n",
      "[224]\tvalidation_0-logloss:0.165301\n",
      "[225]\tvalidation_0-logloss:0.165332\n",
      "[226]\tvalidation_0-logloss:0.165336\n",
      "[227]\tvalidation_0-logloss:0.165342\n",
      "[228]\tvalidation_0-logloss:0.165315\n",
      "[229]\tvalidation_0-logloss:0.165315\n",
      "[230]\tvalidation_0-logloss:0.165314\n",
      "[231]\tvalidation_0-logloss:0.165317\n",
      "[232]\tvalidation_0-logloss:0.165296\n",
      "[233]\tvalidation_0-logloss:0.165296\n",
      "[234]\tvalidation_0-logloss:0.165286\n",
      "[235]\tvalidation_0-logloss:0.165313\n",
      "[236]\tvalidation_0-logloss:0.165312\n",
      "[237]\tvalidation_0-logloss:0.165301\n",
      "[238]\tvalidation_0-logloss:0.165357\n",
      "[239]\tvalidation_0-logloss:0.165402\n",
      "[240]\tvalidation_0-logloss:0.165443\n",
      "[241]\tvalidation_0-logloss:0.165439\n",
      "[242]\tvalidation_0-logloss:0.165451\n",
      "[243]\tvalidation_0-logloss:0.165436\n",
      "[244]\tvalidation_0-logloss:0.165466\n",
      "[245]\tvalidation_0-logloss:0.16545\n",
      "[246]\tvalidation_0-logloss:0.165445\n",
      "[247]\tvalidation_0-logloss:0.165422\n",
      "[248]\tvalidation_0-logloss:0.165436\n",
      "[249]\tvalidation_0-logloss:0.165428\n",
      "[250]\tvalidation_0-logloss:0.165455\n",
      "[251]\tvalidation_0-logloss:0.165476\n",
      "[252]\tvalidation_0-logloss:0.165508\n",
      "[253]\tvalidation_0-logloss:0.165522\n",
      "[254]\tvalidation_0-logloss:0.165557\n",
      "[255]\tvalidation_0-logloss:0.165562\n",
      "[256]\tvalidation_0-logloss:0.165577\n",
      "[257]\tvalidation_0-logloss:0.16556\n",
      "[258]\tvalidation_0-logloss:0.165578\n",
      "[259]\tvalidation_0-logloss:0.165576\n",
      "[260]\tvalidation_0-logloss:0.165585\n",
      "[261]\tvalidation_0-logloss:0.165495\n",
      "[262]\tvalidation_0-logloss:0.165502\n",
      "Stopping. Best iteration:\n",
      "[162]\tvalidation_0-logloss:0.164497\n",
      "\n"
     ]
    },
    {
     "data": {
      "text/plain": [
       "XGBClassifier(base_score=0.5, booster='gbtree', colsample_bylevel=1,\n",
       "       colsample_bytree=1, gamma=0, learning_rate=0.1, max_delta_step=0,\n",
       "       max_depth=3, min_child_weight=1, missing=None, n_estimators=1000,\n",
       "       n_jobs=1, nthread=None, objective='binary:logistic', random_state=0,\n",
       "       reg_alpha=0, reg_lambda=1, scale_pos_weight=1, seed=None,\n",
       "       silent=True, subsample=1)"
      ]
     },
     "execution_count": 464,
     "metadata": {},
     "output_type": "execute_result"
    }
   ],
   "source": [
    "xgb_model = xgboost.XGBClassifier(\n",
    " learning_rate =0.1,\n",
    " n_estimators=1000)\n",
    "eval_set = [(X_test, y_test)]\n",
    "xgb_model.fit(X_train, y_train, early_stopping_rounds=100, eval_metric=\"logloss\", eval_set=eval_set, verbose=True)"
   ]
  },
  {
   "cell_type": "code",
   "execution_count": 465,
   "metadata": {},
   "outputs": [],
   "source": [
    "y_pred_xgb = xgb_model.predict(X_test)"
   ]
  },
  {
   "cell_type": "code",
   "execution_count": 466,
   "metadata": {},
   "outputs": [
    {
     "data": {
      "text/plain": [
       "(0.9518181818181818, 0.4501541623843782, 0.8126159554730983)"
      ]
     },
     "execution_count": 466,
     "metadata": {},
     "output_type": "execute_result"
    }
   ],
   "source": [
    "calculate_scores(y_test, y_pred_xgb)"
   ]
  },
  {
   "cell_type": "markdown",
   "metadata": {},
   "source": [
    "#### LightGBM model"
   ]
  },
  {
   "cell_type": "code",
   "execution_count": 467,
   "metadata": {},
   "outputs": [
    {
     "name": "stdout",
     "output_type": "stream",
     "text": [
      "[1]\tvalid_0's binary_logloss: 0.225645\tvalid_0's binary_logloss: 0.225645\n",
      "Training until validation scores don't improve for 100 rounds.\n",
      "[2]\tvalid_0's binary_logloss: 0.213702\tvalid_0's binary_logloss: 0.213702\n",
      "[3]\tvalid_0's binary_logloss: 0.206143\tvalid_0's binary_logloss: 0.206143\n",
      "[4]\tvalid_0's binary_logloss: 0.200383\tvalid_0's binary_logloss: 0.200383\n",
      "[5]\tvalid_0's binary_logloss: 0.19612\tvalid_0's binary_logloss: 0.19612\n",
      "[6]\tvalid_0's binary_logloss: 0.192597\tvalid_0's binary_logloss: 0.192597\n",
      "[7]\tvalid_0's binary_logloss: 0.189925\tvalid_0's binary_logloss: 0.189925\n",
      "[8]\tvalid_0's binary_logloss: 0.187549\tvalid_0's binary_logloss: 0.187549\n",
      "[9]\tvalid_0's binary_logloss: 0.185763\tvalid_0's binary_logloss: 0.185763\n",
      "[10]\tvalid_0's binary_logloss: 0.184209\tvalid_0's binary_logloss: 0.184209\n",
      "[11]\tvalid_0's binary_logloss: 0.182831\tvalid_0's binary_logloss: 0.182831\n",
      "[12]\tvalid_0's binary_logloss: 0.181548\tvalid_0's binary_logloss: 0.181548\n",
      "[13]\tvalid_0's binary_logloss: 0.180728\tvalid_0's binary_logloss: 0.180728\n",
      "[14]\tvalid_0's binary_logloss: 0.179994\tvalid_0's binary_logloss: 0.179994\n",
      "[15]\tvalid_0's binary_logloss: 0.17916\tvalid_0's binary_logloss: 0.17916\n",
      "[16]\tvalid_0's binary_logloss: 0.178382\tvalid_0's binary_logloss: 0.178382\n",
      "[17]\tvalid_0's binary_logloss: 0.17793\tvalid_0's binary_logloss: 0.17793\n",
      "[18]\tvalid_0's binary_logloss: 0.177589\tvalid_0's binary_logloss: 0.177589\n",
      "[19]\tvalid_0's binary_logloss: 0.177227\tvalid_0's binary_logloss: 0.177227\n",
      "[20]\tvalid_0's binary_logloss: 0.176906\tvalid_0's binary_logloss: 0.176906\n",
      "[21]\tvalid_0's binary_logloss: 0.17669\tvalid_0's binary_logloss: 0.17669\n",
      "[22]\tvalid_0's binary_logloss: 0.176467\tvalid_0's binary_logloss: 0.176467\n",
      "[23]\tvalid_0's binary_logloss: 0.17615\tvalid_0's binary_logloss: 0.17615\n",
      "[24]\tvalid_0's binary_logloss: 0.175876\tvalid_0's binary_logloss: 0.175876\n",
      "[25]\tvalid_0's binary_logloss: 0.175633\tvalid_0's binary_logloss: 0.175633\n",
      "[26]\tvalid_0's binary_logloss: 0.175416\tvalid_0's binary_logloss: 0.175416\n",
      "[27]\tvalid_0's binary_logloss: 0.175329\tvalid_0's binary_logloss: 0.175329\n",
      "[28]\tvalid_0's binary_logloss: 0.175094\tvalid_0's binary_logloss: 0.175094\n",
      "[29]\tvalid_0's binary_logloss: 0.174901\tvalid_0's binary_logloss: 0.174901\n",
      "[30]\tvalid_0's binary_logloss: 0.174751\tvalid_0's binary_logloss: 0.174751\n",
      "[31]\tvalid_0's binary_logloss: 0.174902\tvalid_0's binary_logloss: 0.174902\n",
      "[32]\tvalid_0's binary_logloss: 0.174789\tvalid_0's binary_logloss: 0.174789\n",
      "[33]\tvalid_0's binary_logloss: 0.174833\tvalid_0's binary_logloss: 0.174833\n",
      "[34]\tvalid_0's binary_logloss: 0.174605\tvalid_0's binary_logloss: 0.174605\n",
      "[35]\tvalid_0's binary_logloss: 0.174656\tvalid_0's binary_logloss: 0.174656\n",
      "[36]\tvalid_0's binary_logloss: 0.174593\tvalid_0's binary_logloss: 0.174593\n",
      "[37]\tvalid_0's binary_logloss: 0.174335\tvalid_0's binary_logloss: 0.174335\n",
      "[38]\tvalid_0's binary_logloss: 0.174262\tvalid_0's binary_logloss: 0.174262\n",
      "[39]\tvalid_0's binary_logloss: 0.174198\tvalid_0's binary_logloss: 0.174198\n",
      "[40]\tvalid_0's binary_logloss: 0.174146\tvalid_0's binary_logloss: 0.174146\n",
      "[41]\tvalid_0's binary_logloss: 0.174143\tvalid_0's binary_logloss: 0.174143\n",
      "[42]\tvalid_0's binary_logloss: 0.174168\tvalid_0's binary_logloss: 0.174168\n",
      "[43]\tvalid_0's binary_logloss: 0.174174\tvalid_0's binary_logloss: 0.174174\n",
      "[44]\tvalid_0's binary_logloss: 0.173966\tvalid_0's binary_logloss: 0.173966\n",
      "[45]\tvalid_0's binary_logloss: 0.173828\tvalid_0's binary_logloss: 0.173828\n",
      "[46]\tvalid_0's binary_logloss: 0.17387\tvalid_0's binary_logloss: 0.17387\n",
      "[47]\tvalid_0's binary_logloss: 0.173751\tvalid_0's binary_logloss: 0.173751\n",
      "[48]\tvalid_0's binary_logloss: 0.173639\tvalid_0's binary_logloss: 0.173639\n",
      "[49]\tvalid_0's binary_logloss: 0.173599\tvalid_0's binary_logloss: 0.173599\n",
      "[50]\tvalid_0's binary_logloss: 0.173565\tvalid_0's binary_logloss: 0.173565\n",
      "[51]\tvalid_0's binary_logloss: 0.173591\tvalid_0's binary_logloss: 0.173591\n",
      "[52]\tvalid_0's binary_logloss: 0.173629\tvalid_0's binary_logloss: 0.173629\n",
      "[53]\tvalid_0's binary_logloss: 0.173559\tvalid_0's binary_logloss: 0.173559\n",
      "[54]\tvalid_0's binary_logloss: 0.173517\tvalid_0's binary_logloss: 0.173517\n",
      "[55]\tvalid_0's binary_logloss: 0.173414\tvalid_0's binary_logloss: 0.173414\n",
      "[56]\tvalid_0's binary_logloss: 0.173438\tvalid_0's binary_logloss: 0.173438\n",
      "[57]\tvalid_0's binary_logloss: 0.173352\tvalid_0's binary_logloss: 0.173352\n",
      "[58]\tvalid_0's binary_logloss: 0.173245\tvalid_0's binary_logloss: 0.173245\n",
      "[59]\tvalid_0's binary_logloss: 0.173075\tvalid_0's binary_logloss: 0.173075\n",
      "[60]\tvalid_0's binary_logloss: 0.173165\tvalid_0's binary_logloss: 0.173165\n",
      "[61]\tvalid_0's binary_logloss: 0.173066\tvalid_0's binary_logloss: 0.173066\n",
      "[62]\tvalid_0's binary_logloss: 0.173029\tvalid_0's binary_logloss: 0.173029\n",
      "[63]\tvalid_0's binary_logloss: 0.173015\tvalid_0's binary_logloss: 0.173015\n",
      "[64]\tvalid_0's binary_logloss: 0.173004\tvalid_0's binary_logloss: 0.173004\n",
      "[65]\tvalid_0's binary_logloss: 0.172893\tvalid_0's binary_logloss: 0.172893\n",
      "[66]\tvalid_0's binary_logloss: 0.172881\tvalid_0's binary_logloss: 0.172881\n",
      "[67]\tvalid_0's binary_logloss: 0.172778\tvalid_0's binary_logloss: 0.172778\n",
      "[68]\tvalid_0's binary_logloss: 0.172687\tvalid_0's binary_logloss: 0.172687\n",
      "[69]\tvalid_0's binary_logloss: 0.172692\tvalid_0's binary_logloss: 0.172692\n",
      "[70]\tvalid_0's binary_logloss: 0.172782\tvalid_0's binary_logloss: 0.172782\n",
      "[71]\tvalid_0's binary_logloss: 0.172687\tvalid_0's binary_logloss: 0.172687\n",
      "[72]\tvalid_0's binary_logloss: 0.172673\tvalid_0's binary_logloss: 0.172673\n",
      "[73]\tvalid_0's binary_logloss: 0.172606\tvalid_0's binary_logloss: 0.172606\n",
      "[74]\tvalid_0's binary_logloss: 0.172466\tvalid_0's binary_logloss: 0.172466\n",
      "[75]\tvalid_0's binary_logloss: 0.172493\tvalid_0's binary_logloss: 0.172493\n",
      "[76]\tvalid_0's binary_logloss: 0.172485\tvalid_0's binary_logloss: 0.172485\n",
      "[77]\tvalid_0's binary_logloss: 0.172479\tvalid_0's binary_logloss: 0.172479\n",
      "[78]\tvalid_0's binary_logloss: 0.172451\tvalid_0's binary_logloss: 0.172451\n",
      "[79]\tvalid_0's binary_logloss: 0.172388\tvalid_0's binary_logloss: 0.172388\n",
      "[80]\tvalid_0's binary_logloss: 0.172406\tvalid_0's binary_logloss: 0.172406\n",
      "[81]\tvalid_0's binary_logloss: 0.172473\tvalid_0's binary_logloss: 0.172473\n",
      "[82]\tvalid_0's binary_logloss: 0.172415\tvalid_0's binary_logloss: 0.172415\n",
      "[83]\tvalid_0's binary_logloss: 0.172347\tvalid_0's binary_logloss: 0.172347\n",
      "[84]\tvalid_0's binary_logloss: 0.17226\tvalid_0's binary_logloss: 0.17226\n",
      "[85]\tvalid_0's binary_logloss: 0.172168\tvalid_0's binary_logloss: 0.172168\n",
      "[86]\tvalid_0's binary_logloss: 0.172158\tvalid_0's binary_logloss: 0.172158\n",
      "[87]\tvalid_0's binary_logloss: 0.172123\tvalid_0's binary_logloss: 0.172123\n",
      "[88]\tvalid_0's binary_logloss: 0.172188\tvalid_0's binary_logloss: 0.172188\n",
      "[89]\tvalid_0's binary_logloss: 0.172128\tvalid_0's binary_logloss: 0.172128\n",
      "[90]\tvalid_0's binary_logloss: 0.172098\tvalid_0's binary_logloss: 0.172098\n",
      "[91]\tvalid_0's binary_logloss: 0.172069\tvalid_0's binary_logloss: 0.172069\n",
      "[92]\tvalid_0's binary_logloss: 0.172092\tvalid_0's binary_logloss: 0.172092\n",
      "[93]\tvalid_0's binary_logloss: 0.172078\tvalid_0's binary_logloss: 0.172078\n",
      "[94]\tvalid_0's binary_logloss: 0.172025\tvalid_0's binary_logloss: 0.172025\n",
      "[95]\tvalid_0's binary_logloss: 0.172\tvalid_0's binary_logloss: 0.172\n",
      "[96]\tvalid_0's binary_logloss: 0.171951\tvalid_0's binary_logloss: 0.171951\n",
      "[97]\tvalid_0's binary_logloss: 0.171906\tvalid_0's binary_logloss: 0.171906\n",
      "[98]\tvalid_0's binary_logloss: 0.171868\tvalid_0's binary_logloss: 0.171868\n",
      "[99]\tvalid_0's binary_logloss: 0.171779\tvalid_0's binary_logloss: 0.171779\n",
      "[100]\tvalid_0's binary_logloss: 0.171832\tvalid_0's binary_logloss: 0.171832\n",
      "[101]\tvalid_0's binary_logloss: 0.171877\tvalid_0's binary_logloss: 0.171877\n",
      "[102]\tvalid_0's binary_logloss: 0.171906\tvalid_0's binary_logloss: 0.171906\n",
      "[103]\tvalid_0's binary_logloss: 0.171905\tvalid_0's binary_logloss: 0.171905\n",
      "[104]\tvalid_0's binary_logloss: 0.17198\tvalid_0's binary_logloss: 0.17198\n",
      "[105]\tvalid_0's binary_logloss: 0.171954\tvalid_0's binary_logloss: 0.171954\n",
      "[106]\tvalid_0's binary_logloss: 0.171959\tvalid_0's binary_logloss: 0.171959\n",
      "[107]\tvalid_0's binary_logloss: 0.171918\tvalid_0's binary_logloss: 0.171918\n",
      "[108]\tvalid_0's binary_logloss: 0.171828\tvalid_0's binary_logloss: 0.171828\n",
      "[109]\tvalid_0's binary_logloss: 0.171779\tvalid_0's binary_logloss: 0.171779\n",
      "[110]\tvalid_0's binary_logloss: 0.17177\tvalid_0's binary_logloss: 0.17177\n",
      "[111]\tvalid_0's binary_logloss: 0.171733\tvalid_0's binary_logloss: 0.171733\n",
      "[112]\tvalid_0's binary_logloss: 0.171722\tvalid_0's binary_logloss: 0.171722\n",
      "[113]\tvalid_0's binary_logloss: 0.17169\tvalid_0's binary_logloss: 0.17169\n",
      "[114]\tvalid_0's binary_logloss: 0.171718\tvalid_0's binary_logloss: 0.171718\n",
      "[115]\tvalid_0's binary_logloss: 0.171737\tvalid_0's binary_logloss: 0.171737\n",
      "[116]\tvalid_0's binary_logloss: 0.171664\tvalid_0's binary_logloss: 0.171664\n",
      "[117]\tvalid_0's binary_logloss: 0.171628\tvalid_0's binary_logloss: 0.171628\n",
      "[118]\tvalid_0's binary_logloss: 0.171673\tvalid_0's binary_logloss: 0.171673\n",
      "[119]\tvalid_0's binary_logloss: 0.171628\tvalid_0's binary_logloss: 0.171628\n",
      "[120]\tvalid_0's binary_logloss: 0.171684\tvalid_0's binary_logloss: 0.171684\n",
      "[121]\tvalid_0's binary_logloss: 0.171662\tvalid_0's binary_logloss: 0.171662\n",
      "[122]\tvalid_0's binary_logloss: 0.171646\tvalid_0's binary_logloss: 0.171646\n",
      "[123]\tvalid_0's binary_logloss: 0.171604\tvalid_0's binary_logloss: 0.171604\n",
      "[124]\tvalid_0's binary_logloss: 0.171589\tvalid_0's binary_logloss: 0.171589\n",
      "[125]\tvalid_0's binary_logloss: 0.17158\tvalid_0's binary_logloss: 0.17158\n",
      "[126]\tvalid_0's binary_logloss: 0.171545\tvalid_0's binary_logloss: 0.171545\n",
      "[127]\tvalid_0's binary_logloss: 0.171551\tvalid_0's binary_logloss: 0.171551\n",
      "[128]\tvalid_0's binary_logloss: 0.17154\tvalid_0's binary_logloss: 0.17154\n",
      "[129]\tvalid_0's binary_logloss: 0.171578\tvalid_0's binary_logloss: 0.171578\n",
      "[130]\tvalid_0's binary_logloss: 0.171594\tvalid_0's binary_logloss: 0.171594\n",
      "[131]\tvalid_0's binary_logloss: 0.171524\tvalid_0's binary_logloss: 0.171524\n",
      "[132]\tvalid_0's binary_logloss: 0.171463\tvalid_0's binary_logloss: 0.171463\n",
      "[133]\tvalid_0's binary_logloss: 0.171374\tvalid_0's binary_logloss: 0.171374\n",
      "[134]\tvalid_0's binary_logloss: 0.171472\tvalid_0's binary_logloss: 0.171472\n",
      "[135]\tvalid_0's binary_logloss: 0.171503\tvalid_0's binary_logloss: 0.171503\n",
      "[136]\tvalid_0's binary_logloss: 0.171516\tvalid_0's binary_logloss: 0.171516\n",
      "[137]\tvalid_0's binary_logloss: 0.171507\tvalid_0's binary_logloss: 0.171507\n",
      "[138]\tvalid_0's binary_logloss: 0.171471\tvalid_0's binary_logloss: 0.171471\n",
      "[139]\tvalid_0's binary_logloss: 0.171483\tvalid_0's binary_logloss: 0.171483\n",
      "[140]\tvalid_0's binary_logloss: 0.171522\tvalid_0's binary_logloss: 0.171522\n",
      "[141]\tvalid_0's binary_logloss: 0.171495\tvalid_0's binary_logloss: 0.171495\n",
      "[142]\tvalid_0's binary_logloss: 0.171578\tvalid_0's binary_logloss: 0.171578\n",
      "[143]\tvalid_0's binary_logloss: 0.17152\tvalid_0's binary_logloss: 0.17152\n",
      "[144]\tvalid_0's binary_logloss: 0.171454\tvalid_0's binary_logloss: 0.171454\n",
      "[145]\tvalid_0's binary_logloss: 0.171467\tvalid_0's binary_logloss: 0.171467\n",
      "[146]\tvalid_0's binary_logloss: 0.171472\tvalid_0's binary_logloss: 0.171472\n",
      "[147]\tvalid_0's binary_logloss: 0.171449\tvalid_0's binary_logloss: 0.171449\n",
      "[148]\tvalid_0's binary_logloss: 0.171534\tvalid_0's binary_logloss: 0.171534\n",
      "[149]\tvalid_0's binary_logloss: 0.171512\tvalid_0's binary_logloss: 0.171512\n",
      "[150]\tvalid_0's binary_logloss: 0.171451\tvalid_0's binary_logloss: 0.171451\n",
      "[151]\tvalid_0's binary_logloss: 0.171477\tvalid_0's binary_logloss: 0.171477\n",
      "[152]\tvalid_0's binary_logloss: 0.171417\tvalid_0's binary_logloss: 0.171417\n",
      "[153]\tvalid_0's binary_logloss: 0.17142\tvalid_0's binary_logloss: 0.17142\n",
      "[154]\tvalid_0's binary_logloss: 0.171546\tvalid_0's binary_logloss: 0.171546\n",
      "[155]\tvalid_0's binary_logloss: 0.171511\tvalid_0's binary_logloss: 0.171511\n",
      "[156]\tvalid_0's binary_logloss: 0.171492\tvalid_0's binary_logloss: 0.171492\n",
      "[157]\tvalid_0's binary_logloss: 0.1716\tvalid_0's binary_logloss: 0.1716\n",
      "[158]\tvalid_0's binary_logloss: 0.171618\tvalid_0's binary_logloss: 0.171618\n",
      "[159]\tvalid_0's binary_logloss: 0.171585\tvalid_0's binary_logloss: 0.171585\n",
      "[160]\tvalid_0's binary_logloss: 0.171659\tvalid_0's binary_logloss: 0.171659\n",
      "[161]\tvalid_0's binary_logloss: 0.171654\tvalid_0's binary_logloss: 0.171654\n",
      "[162]\tvalid_0's binary_logloss: 0.171687\tvalid_0's binary_logloss: 0.171687\n",
      "[163]\tvalid_0's binary_logloss: 0.171716\tvalid_0's binary_logloss: 0.171716\n",
      "[164]\tvalid_0's binary_logloss: 0.171838\tvalid_0's binary_logloss: 0.171838\n",
      "[165]\tvalid_0's binary_logloss: 0.171809\tvalid_0's binary_logloss: 0.171809\n",
      "[166]\tvalid_0's binary_logloss: 0.171761\tvalid_0's binary_logloss: 0.171761\n",
      "[167]\tvalid_0's binary_logloss: 0.171797\tvalid_0's binary_logloss: 0.171797\n",
      "[168]\tvalid_0's binary_logloss: 0.171839\tvalid_0's binary_logloss: 0.171839\n",
      "[169]\tvalid_0's binary_logloss: 0.171909\tvalid_0's binary_logloss: 0.171909\n",
      "[170]\tvalid_0's binary_logloss: 0.171822\tvalid_0's binary_logloss: 0.171822\n",
      "[171]\tvalid_0's binary_logloss: 0.171758\tvalid_0's binary_logloss: 0.171758\n",
      "[172]\tvalid_0's binary_logloss: 0.171785\tvalid_0's binary_logloss: 0.171785\n",
      "[173]\tvalid_0's binary_logloss: 0.171749\tvalid_0's binary_logloss: 0.171749\n",
      "[174]\tvalid_0's binary_logloss: 0.17167\tvalid_0's binary_logloss: 0.17167\n",
      "[175]\tvalid_0's binary_logloss: 0.171694\tvalid_0's binary_logloss: 0.171694\n",
      "[176]\tvalid_0's binary_logloss: 0.171733\tvalid_0's binary_logloss: 0.171733\n",
      "[177]\tvalid_0's binary_logloss: 0.171796\tvalid_0's binary_logloss: 0.171796\n",
      "[178]\tvalid_0's binary_logloss: 0.171826\tvalid_0's binary_logloss: 0.171826\n",
      "[179]\tvalid_0's binary_logloss: 0.171886\tvalid_0's binary_logloss: 0.171886\n",
      "[180]\tvalid_0's binary_logloss: 0.171991\tvalid_0's binary_logloss: 0.171991\n",
      "[181]\tvalid_0's binary_logloss: 0.171935\tvalid_0's binary_logloss: 0.171935\n",
      "[182]\tvalid_0's binary_logloss: 0.17197\tvalid_0's binary_logloss: 0.17197\n",
      "[183]\tvalid_0's binary_logloss: 0.172005\tvalid_0's binary_logloss: 0.172005\n",
      "[184]\tvalid_0's binary_logloss: 0.171925\tvalid_0's binary_logloss: 0.171925\n",
      "[185]\tvalid_0's binary_logloss: 0.171894\tvalid_0's binary_logloss: 0.171894\n",
      "[186]\tvalid_0's binary_logloss: 0.172003\tvalid_0's binary_logloss: 0.172003\n",
      "[187]\tvalid_0's binary_logloss: 0.172059\tvalid_0's binary_logloss: 0.172059\n",
      "[188]\tvalid_0's binary_logloss: 0.172048\tvalid_0's binary_logloss: 0.172048\n",
      "[189]\tvalid_0's binary_logloss: 0.171921\tvalid_0's binary_logloss: 0.171921\n",
      "[190]\tvalid_0's binary_logloss: 0.171947\tvalid_0's binary_logloss: 0.171947\n",
      "[191]\tvalid_0's binary_logloss: 0.171905\tvalid_0's binary_logloss: 0.171905\n",
      "[192]\tvalid_0's binary_logloss: 0.171831\tvalid_0's binary_logloss: 0.171831\n",
      "[193]\tvalid_0's binary_logloss: 0.17189\tvalid_0's binary_logloss: 0.17189\n",
      "[194]\tvalid_0's binary_logloss: 0.171934\tvalid_0's binary_logloss: 0.171934\n",
      "[195]\tvalid_0's binary_logloss: 0.171925\tvalid_0's binary_logloss: 0.171925\n",
      "[196]\tvalid_0's binary_logloss: 0.171914\tvalid_0's binary_logloss: 0.171914\n",
      "[197]\tvalid_0's binary_logloss: 0.171975\tvalid_0's binary_logloss: 0.171975\n",
      "[198]\tvalid_0's binary_logloss: 0.171929\tvalid_0's binary_logloss: 0.171929\n",
      "[199]\tvalid_0's binary_logloss: 0.17193\tvalid_0's binary_logloss: 0.17193\n",
      "[200]\tvalid_0's binary_logloss: 0.171943\tvalid_0's binary_logloss: 0.171943\n",
      "[201]\tvalid_0's binary_logloss: 0.171985\tvalid_0's binary_logloss: 0.171985\n",
      "[202]\tvalid_0's binary_logloss: 0.171997\tvalid_0's binary_logloss: 0.171997\n",
      "[203]\tvalid_0's binary_logloss: 0.172069\tvalid_0's binary_logloss: 0.172069\n",
      "[204]\tvalid_0's binary_logloss: 0.172084\tvalid_0's binary_logloss: 0.172084\n",
      "[205]\tvalid_0's binary_logloss: 0.172129\tvalid_0's binary_logloss: 0.172129\n",
      "[206]\tvalid_0's binary_logloss: 0.172155\tvalid_0's binary_logloss: 0.172155\n",
      "[207]\tvalid_0's binary_logloss: 0.172194\tvalid_0's binary_logloss: 0.172194\n",
      "[208]\tvalid_0's binary_logloss: 0.172254\tvalid_0's binary_logloss: 0.172254\n",
      "[209]\tvalid_0's binary_logloss: 0.17228\tvalid_0's binary_logloss: 0.17228\n",
      "[210]\tvalid_0's binary_logloss: 0.172354\tvalid_0's binary_logloss: 0.172354\n",
      "[211]\tvalid_0's binary_logloss: 0.172374\tvalid_0's binary_logloss: 0.172374\n",
      "[212]\tvalid_0's binary_logloss: 0.172431\tvalid_0's binary_logloss: 0.172431\n",
      "[213]\tvalid_0's binary_logloss: 0.172413\tvalid_0's binary_logloss: 0.172413\n",
      "[214]\tvalid_0's binary_logloss: 0.172428\tvalid_0's binary_logloss: 0.172428\n",
      "[215]\tvalid_0's binary_logloss: 0.172543\tvalid_0's binary_logloss: 0.172543\n",
      "[216]\tvalid_0's binary_logloss: 0.172609\tvalid_0's binary_logloss: 0.172609\n",
      "[217]\tvalid_0's binary_logloss: 0.172728\tvalid_0's binary_logloss: 0.172728\n",
      "[218]\tvalid_0's binary_logloss: 0.172706\tvalid_0's binary_logloss: 0.172706\n",
      "[219]\tvalid_0's binary_logloss: 0.172703\tvalid_0's binary_logloss: 0.172703\n",
      "[220]\tvalid_0's binary_logloss: 0.172747\tvalid_0's binary_logloss: 0.172747\n",
      "[221]\tvalid_0's binary_logloss: 0.172655\tvalid_0's binary_logloss: 0.172655\n",
      "[222]\tvalid_0's binary_logloss: 0.17258\tvalid_0's binary_logloss: 0.17258\n",
      "[223]\tvalid_0's binary_logloss: 0.172583\tvalid_0's binary_logloss: 0.172583\n",
      "[224]\tvalid_0's binary_logloss: 0.172587\tvalid_0's binary_logloss: 0.172587\n",
      "[225]\tvalid_0's binary_logloss: 0.172712\tvalid_0's binary_logloss: 0.172712\n",
      "[226]\tvalid_0's binary_logloss: 0.172789\tvalid_0's binary_logloss: 0.172789\n",
      "[227]\tvalid_0's binary_logloss: 0.172793\tvalid_0's binary_logloss: 0.172793\n",
      "[228]\tvalid_0's binary_logloss: 0.172824\tvalid_0's binary_logloss: 0.172824\n",
      "[229]\tvalid_0's binary_logloss: 0.172883\tvalid_0's binary_logloss: 0.172883\n",
      "[230]\tvalid_0's binary_logloss: 0.172986\tvalid_0's binary_logloss: 0.172986\n",
      "[231]\tvalid_0's binary_logloss: 0.173129\tvalid_0's binary_logloss: 0.173129\n",
      "[232]\tvalid_0's binary_logloss: 0.173113\tvalid_0's binary_logloss: 0.173113\n",
      "[233]\tvalid_0's binary_logloss: 0.173111\tvalid_0's binary_logloss: 0.173111\n",
      "Early stopping, best iteration is:\n",
      "[133]\tvalid_0's binary_logloss: 0.171374\tvalid_0's binary_logloss: 0.171374\n"
     ]
    },
    {
     "data": {
      "text/plain": [
       "LGBMClassifier(boosting_type='gbdt', class_weight=None, colsample_bytree=1.0,\n",
       "        importance_type='split', learning_rate=0.1, max_depth=-1,\n",
       "        min_child_samples=20, min_child_weight=0.001, min_split_gain=0.0,\n",
       "        n_estimators=1000, n_jobs=-1, num_leaves=31, objective=None,\n",
       "        random_state=None, reg_alpha=0.0, reg_lambda=0.0,\n",
       "        scale_pos_weight=2, silent=True, subsample=1.0,\n",
       "        subsample_for_bin=200000, subsample_freq=0)"
      ]
     },
     "execution_count": 467,
     "metadata": {},
     "output_type": "execute_result"
    }
   ],
   "source": [
    "lightgbm_model = lightgbm.LGBMClassifier(\n",
    " learning_rate = 0.1,\n",
    " n_estimators = 1000,\n",
    " scale_pos_weight = 2)\n",
    "eval_set = [(X_test, y_test)]\n",
    "lightgbm_model.fit(X_train, y_train, early_stopping_rounds=100, eval_set=eval_set, eval_metric=\"logloss\", verbose=True)"
   ]
  },
  {
   "cell_type": "code",
   "execution_count": 468,
   "metadata": {},
   "outputs": [],
   "source": [
    "y_pred_lightgbm = lightgbm_model.predict(X_test)"
   ]
  },
  {
   "cell_type": "code",
   "execution_count": 469,
   "metadata": {},
   "outputs": [
    {
     "data": {
      "text/plain": [
       "(0.951590909090909, 0.4635149023638232, 0.7940140845070423)"
      ]
     },
     "execution_count": 469,
     "metadata": {},
     "output_type": "execute_result"
    }
   ],
   "source": [
    "calculate_scores(y_test, y_pred_lightgbm)"
   ]
  },
  {
   "cell_type": "code",
   "execution_count": 358,
   "metadata": {},
   "outputs": [
    {
     "data": {
      "text/plain": [
       "{'boosting_type': 'gbdt',\n",
       " 'class_weight': None,\n",
       " 'colsample_bytree': 1.0,\n",
       " 'importance_type': 'split',\n",
       " 'learning_rate': 0.1,\n",
       " 'max_depth': -1,\n",
       " 'min_child_samples': 20,\n",
       " 'min_child_weight': 0.001,\n",
       " 'min_split_gain': 0.0,\n",
       " 'n_estimators': 1000,\n",
       " 'n_jobs': -1,\n",
       " 'num_leaves': 31,\n",
       " 'objective': None,\n",
       " 'random_state': None,\n",
       " 'reg_alpha': 0.0,\n",
       " 'reg_lambda': 0.0,\n",
       " 'silent': True,\n",
       " 'subsample': 1.0,\n",
       " 'subsample_for_bin': 200000,\n",
       " 'subsample_freq': 0,\n",
       " 'scale_pos_weight': 2}"
      ]
     },
     "execution_count": 358,
     "metadata": {},
     "output_type": "execute_result"
    }
   ],
   "source": [
    "lightgbm_model.get_params()"
   ]
  }
 ],
 "metadata": {
  "kernelspec": {
   "display_name": "Python 3",
   "language": "python",
   "name": "python3"
  },
  "language_info": {
   "codemirror_mode": {
    "name": "ipython",
    "version": 3
   },
   "file_extension": ".py",
   "mimetype": "text/x-python",
   "name": "python",
   "nbconvert_exporter": "python",
   "pygments_lexer": "ipython3",
   "version": "3.7.2"
  }
 },
 "nbformat": 4,
 "nbformat_minor": 2
}
