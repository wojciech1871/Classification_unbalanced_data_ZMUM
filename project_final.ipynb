{
 "cells": [
  {
   "cell_type": "markdown",
   "metadata": {},
   "source": [
    "# I Projekt ZMUM - Klasyfikator binarny\n",
    "### Wojciech Celej"
   ]
  },
  {
   "cell_type": "markdown",
   "metadata": {},
   "source": [
    "---"
   ]
  },
  {
   "cell_type": "code",
   "execution_count": 1,
   "metadata": {},
   "outputs": [],
   "source": [
    "import numpy as np\n",
    "import pandas as pd\n",
    "import matplotlib.pyplot as plt\n",
    "import seaborn as sns\n",
    "\n",
    "from sklearn.model_selection import *\n",
    "from sklearn.preprocessing import *\n",
    "from sklearn.metrics import *\n",
    "from sklearn.decomposition import *\n",
    "from sklearn.feature_selection import *\n",
    "\n",
    "import xgboost\n",
    "import lightgbm\n",
    "import catboost\n",
    "from sklearn.ensemble import RandomForestClassifier\n",
    "import shap\n",
    "\n",
    "import category_encoders as ce\n",
    "from collections import defaultdict"
   ]
  },
  {
   "cell_type": "markdown",
   "metadata": {},
   "source": [
    "## Wczytanie danych"
   ]
  },
  {
   "cell_type": "code",
   "execution_count": 2,
   "metadata": {},
   "outputs": [],
   "source": [
    "train_df = pd.read_csv(\"train.txt\", sep = \" \").sort_index()\n",
    "test_df = pd.read_csv(\"testx.txt\", sep = \" \").sort_index()"
   ]
  },
  {
   "cell_type": "code",
   "execution_count": 3,
   "metadata": {},
   "outputs": [],
   "source": [
    "X = train_df.loc[:, train_df.columns != \"class\"]\n",
    "y = train_df[\"class\"]"
   ]
  },
  {
   "cell_type": "code",
   "execution_count": 4,
   "metadata": {},
   "outputs": [],
   "source": [
    "# Trenowanie modeli\n",
    "X_train, X_test, y_train, y_test = train_test_split(X, y, test_size=0.2, random_state=111)\n",
    "# Zapisanie prawdziwych eytkiet zbioru testowego\n",
    "y_test.to_frame().to_csv(\"y_true.csv\", index=False)"
   ]
  },
  {
   "cell_type": "code",
   "execution_count": null,
   "metadata": {},
   "outputs": [],
   "source": [
    "# Finalna predykcja\n",
    "X_train = X\n",
    "y_train = y\n",
    "X_test = test_df.loc[:, train_df.columns != \"class\"]"
   ]
  },
  {
   "cell_type": "markdown",
   "metadata": {},
   "source": [
    "## Usunięcie pustych kolumn"
   ]
  },
  {
   "cell_type": "code",
   "execution_count": 5,
   "metadata": {},
   "outputs": [],
   "source": [
    "def drop_empty_columns(train_df, test_df):\n",
    "    columns_to_drop =[]\n",
    "    for column in train_df.columns:\n",
    "        if train_df[column].isna().all():\n",
    "            columns_to_drop.append(column)\n",
    "    if columns_to_drop:\n",
    "        new_train_df = train_df.drop(columns=columns_to_drop)\n",
    "        new_test_df = test_df.drop(columns=columns_to_drop)\n",
    "        \n",
    "    return new_train_df, new_test_df"
   ]
  },
  {
   "cell_type": "code",
   "execution_count": 6,
   "metadata": {},
   "outputs": [],
   "source": [
    "X_train, X_test = drop_empty_columns(X_train, X_test)"
   ]
  },
  {
   "cell_type": "markdown",
   "metadata": {},
   "source": [
    "## Usunięcie kolumn kategorycznych powtarzających się"
   ]
  },
  {
   "cell_type": "code",
   "execution_count": 7,
   "metadata": {},
   "outputs": [],
   "source": [
    "def count_categories_in_columns(train_df):\n",
    "    cat_df = train_df.select_dtypes(exclude=[\"number\"])\n",
    "    num_unique_values_map = defaultdict(list)\n",
    "    for i in range(0, cat_df.shape[1]):\n",
    "        column = cat_df.iloc[:, i]\n",
    "        num_unique = column.nunique(dropna=False)\n",
    "        num_unique_values_map[num_unique].append(column.name)\n",
    "    return num_unique_values_map"
   ]
  },
  {
   "cell_type": "code",
   "execution_count": 8,
   "metadata": {},
   "outputs": [],
   "source": [
    "num_unique_values_map = count_categories_in_columns(X_train)"
   ]
  },
  {
   "cell_type": "code",
   "execution_count": 9,
   "metadata": {},
   "outputs": [],
   "source": [
    "def drop_repeated_cat_columns(train_df, test_df, num_unique_values_map):\n",
    "    columns_to_drop = set()\n",
    "    for key, value in num_unique_values_map.items():\n",
    "        len_col_list = len(value)\n",
    "        if len_col_list > 1:\n",
    "            for i in range(len_col_list):\n",
    "                col_name_i = value[i]\n",
    "                for j in range(i+1, len_col_list):\n",
    "                    col_name_j = value[j]\n",
    "                    lab_encoder = ce.OrdinalEncoder()\n",
    "                    transformed = lab_encoder.fit_transform(train_df[[col_name_i, col_name_j]])\n",
    "                    if accuracy_score(transformed.iloc[:, 0], transformed.iloc[:, 1]) > 0.99:\n",
    "                        columns_to_drop.add(col_name_i)\n",
    "                        break\n",
    "    return train_df.drop(columns=columns_to_drop), test_df.drop(columns=columns_to_drop)"
   ]
  },
  {
   "cell_type": "code",
   "execution_count": 10,
   "metadata": {},
   "outputs": [],
   "source": [
    "X_train, X_test = drop_repeated_cat_columns(X_train, X_test, num_unique_values_map)"
   ]
  },
  {
   "cell_type": "markdown",
   "metadata": {},
   "source": [
    "## Usunięcie kolumn o liczbie kategorii  większej niż *n*"
   ]
  },
  {
   "cell_type": "code",
   "execution_count": 11,
   "metadata": {},
   "outputs": [],
   "source": [
    "def drop_columns_above_n_categories(train_df, test_df, n):\n",
    "    columns_to_drop = set()\n",
    "    cat_columns = train_df.select_dtypes(exclude=[\"number\"]).columns\n",
    "    for column in cat_columns:\n",
    "        if train_df[column].nunique(dropna=False) > n:\n",
    "            columns_to_drop.add(column)\n",
    "    return train_df.drop(columns=columns_to_drop), test_df.drop(columns=columns_to_drop)"
   ]
  },
  {
   "cell_type": "code",
   "execution_count": 12,
   "metadata": {},
   "outputs": [],
   "source": [
    "X_train, X_test = drop_columns_above_n_categories(X_train, X_test, 100)"
   ]
  },
  {
   "cell_type": "markdown",
   "metadata": {},
   "source": [
    "## Wypełnienie pustych zmiennych numerycznych i dodanie kolumn informujących o NaN"
   ]
  },
  {
   "cell_type": "code",
   "execution_count": 13,
   "metadata": {},
   "outputs": [],
   "source": [
    "def fill_na_in_numerical_add_column(train_df, test_df):\n",
    "    new_train_df = train_df.copy()\n",
    "    new_test_df = test_df.copy()\n",
    "    numerical_columns = new_train_df.select_dtypes(include=[\"number\"]).columns\n",
    "    for column in numerical_columns:\n",
    "        if new_train_df[column].isna().any():\n",
    "            new_train_df[column+\"_isfilled\"] = new_train_df[column].isna().map({True:\"yes\", False:\"no\"})\n",
    "            new_test_df[column+\"_isfilled\"] = new_test_df[column].isna().map({True:\"yes\", False:\"no\"})\n",
    "        new_train_df[column] = new_train_df[column].fillna(new_train_df[column].median())\n",
    "        new_test_df[column] = new_test_df[column].fillna(new_train_df[column].median())\n",
    "    return new_train_df, new_test_df"
   ]
  },
  {
   "cell_type": "code",
   "execution_count": 14,
   "metadata": {},
   "outputs": [
    {
     "data": {
      "text/plain": [
       "(32000, 372)"
      ]
     },
     "execution_count": 14,
     "metadata": {},
     "output_type": "execute_result"
    }
   ],
   "source": [
    "X_train, X_test = fill_na_in_numerical_add_column(X_train, X_test)\n",
    "X_train.shape"
   ]
  },
  {
   "cell_type": "markdown",
   "metadata": {},
   "source": [
    "## Zakodowanie zmiennych kategorycznych"
   ]
  },
  {
   "cell_type": "code",
   "execution_count": 15,
   "metadata": {},
   "outputs": [],
   "source": [
    "label_encoder = ce.WOEEncoder(drop_invariant=False, randomized=True)\n",
    "#label_encoder = ce.TargetEncoder(smoothing=20, min_samples_leaf=2)"
   ]
  },
  {
   "cell_type": "code",
   "execution_count": 16,
   "metadata": {},
   "outputs": [
    {
     "data": {
      "text/plain": [
       "WOEEncoder(cols=['Var191', 'Var193', 'Var194', 'Var195', 'Var196', 'Var201', 'Var203', 'Var204', 'Var205', 'Var206', 'Var207', 'Var208', 'Var210', 'Var211', 'Var212', 'Var213', 'Var215', 'Var218', 'Var219', 'Var221', 'Var223', 'Var224', 'Var225', 'Var226', 'Var227', 'Var228', 'Var229', 'Var1_isfilled', 'Var2_i...led', 'Var186_isfilled', 'Var187_isfilled', 'Var188_isfilled', 'Var189_isfilled', 'Var190_isfilled'],\n",
       "      drop_invariant=False, handle_missing='value', handle_unknown='value',\n",
       "      random_state=None, randomized=True, regularization=1.0,\n",
       "      return_df=True, sigma=0.05, verbose=0)"
      ]
     },
     "execution_count": 16,
     "metadata": {},
     "output_type": "execute_result"
    }
   ],
   "source": [
    "label_encoder.fit(X_train, y_train)"
   ]
  },
  {
   "cell_type": "code",
   "execution_count": 17,
   "metadata": {},
   "outputs": [
    {
     "data": {
      "text/plain": [
       "(32000, 372)"
      ]
     },
     "execution_count": 17,
     "metadata": {},
     "output_type": "execute_result"
    }
   ],
   "source": [
    "X_train = label_encoder.transform(X_train)\n",
    "X_test = label_encoder.transform(X_test)\n",
    "X_train.shape"
   ]
  },
  {
   "cell_type": "markdown",
   "metadata": {},
   "source": [
    "## Robust scaler"
   ]
  },
  {
   "cell_type": "code",
   "execution_count": 18,
   "metadata": {},
   "outputs": [],
   "source": [
    "def robust_scaler(train_df, test_df):\n",
    "    new_train_df = train_df.copy()\n",
    "    new_test_df = test_df.copy()\n",
    "    numerical_columns = new_train_df.select_dtypes(include=[\"number\"]).columns\n",
    "    robust_scaler = RobustScaler()\n",
    "    robust_scaler.fit(new_train_df[numerical_columns])\n",
    "    new_train_df[numerical_columns] = robust_scaler.transform(new_train_df[numerical_columns])\n",
    "    new_test_df[numerical_columns] = robust_scaler.transform(new_test_df[numerical_columns])\n",
    "    return new_train_df, new_test_df"
   ]
  },
  {
   "cell_type": "code",
   "execution_count": 19,
   "metadata": {},
   "outputs": [],
   "source": [
    "X_train, X_test = robust_scaler(X_train, X_test)"
   ]
  },
  {
   "cell_type": "markdown",
   "metadata": {},
   "source": [
    "## Zebranie funkcji razem"
   ]
  },
  {
   "cell_type": "code",
   "execution_count": 20,
   "metadata": {},
   "outputs": [],
   "source": [
    "def data_transformation(X_train, X_test, y_train):\n",
    "    X_train, X_test = drop_columns_above_n_categories(X_train, X_test, 100)\n",
    "    X_train, X_test = fill_na_in_numerical_add_column(X_train, X_test)\n",
    "    label_encoder = ce.WOEEncoder(drop_invariant=False, randomized=True)\n",
    "    label_encoder.fit(X_train, y_train)\n",
    "    X_train = label_encoder.transform(X_train)\n",
    "    X_test = label_encoder.transform(X_test)\n",
    "    X_train, X_test = robust_scaler(X_train, X_test)\n",
    "    return X_train, X_test"
   ]
  },
  {
   "cell_type": "markdown",
   "metadata": {},
   "source": [
    "## Funkcje liczące jakość klasyfikacji i frakcję \"1\""
   ]
  },
  {
   "cell_type": "code",
   "execution_count": 21,
   "metadata": {},
   "outputs": [],
   "source": [
    "def prec_score_10(y_true, y_pred_proba):\n",
    "    Y = pd.DataFrame({\"y_pred\": y_pred_proba, \"y_true\": y_true})\n",
    "    n = int(np.floor(y_pred_proba.shape[0]*0.1)+1)\n",
    "    Y = Y.sort_values(\"y_pred\", ascending=False).head(n)\n",
    "    return Y[\"y_true\"].mean(), roc_auc_score(y_true, y_pred_proba)\n",
    "\n",
    "def calculate_scores(y_true, y_pred):\n",
    "    acc = accuracy_score(y_true, y_pred)\n",
    "    recall = recall_score(y_true, y_pred)\n",
    "    precision = precision_score(y_true, y_pred)\n",
    "    return acc, recall, precision\n",
    "\n",
    "def weight_ratio(y_train):\n",
    "    num = y_train.value_counts()\n",
    "    return num[0]/num[1]"
   ]
  },
  {
   "cell_type": "markdown",
   "metadata": {},
   "source": [
    "## Modele"
   ]
  },
  {
   "cell_type": "markdown",
   "metadata": {},
   "source": [
    "### xgboost model"
   ]
  },
  {
   "cell_type": "code",
   "execution_count": 22,
   "metadata": {},
   "outputs": [],
   "source": [
    "xgb_params = {\n",
    "    \"learning_rate\": 0.01,\n",
    "    \"n_estimators\": 5000,\n",
    "    \"subsample\": 0.9,\n",
    "    \"max_depth\": 3,\n",
    "    \"colsample_bytree\": 0.4,\n",
    "    \"gamma\": 0.5,\n",
    "    \"reg_alpha\": 0.05,\n",
    "    \"scale_pos_weight\": weight_ratio(y_train)\n",
    "}"
   ]
  },
  {
   "cell_type": "code",
   "execution_count": 23,
   "metadata": {},
   "outputs": [],
   "source": [
    "xgb_model = xgboost.XGBClassifier(**xgb_params, n_jobs=8)"
   ]
  },
  {
   "cell_type": "code",
   "execution_count": 24,
   "metadata": {},
   "outputs": [
    {
     "data": {
      "text/plain": [
       "XGBClassifier(base_score=0.5, booster='gbtree', colsample_bylevel=1,\n",
       "       colsample_bytree=0.4, gamma=0.5, learning_rate=0.01,\n",
       "       max_delta_step=0, max_depth=3, min_child_weight=1, missing=None,\n",
       "       n_estimators=5000, n_jobs=8, nthread=None,\n",
       "       objective='binary:logistic', random_state=0, reg_alpha=0.05,\n",
       "       reg_lambda=1, scale_pos_weight=12.617021276595745, seed=None,\n",
       "       silent=True, subsample=0.9)"
      ]
     },
     "execution_count": 24,
     "metadata": {},
     "output_type": "execute_result"
    }
   ],
   "source": [
    "eval_set = [(X_test, y_test)]\n",
    "xgb_model.fit(X_train, y_train, early_stopping_rounds=100, eval_metric=\"auc\", eval_set=eval_set, verbose=False)"
   ]
  },
  {
   "cell_type": "code",
   "execution_count": 25,
   "metadata": {},
   "outputs": [
    {
     "data": {
      "text/plain": [
       "(0.736875, 0.8003442340791739, 0.18948655256723718)"
      ]
     },
     "execution_count": 25,
     "metadata": {},
     "output_type": "execute_result"
    }
   ],
   "source": [
    "y_pred_xgb = xgb_model.predict(X_test)\n",
    "calculate_scores(y_test, y_pred_xgb)"
   ]
  },
  {
   "cell_type": "code",
   "execution_count": 26,
   "metadata": {},
   "outputs": [
    {
     "data": {
      "text/plain": [
       "(0.42696629213483145, 0.8759437263814661)"
      ]
     },
     "execution_count": 26,
     "metadata": {},
     "output_type": "execute_result"
    }
   ],
   "source": [
    "y_pred_xgb_proba = xgb_model.predict_proba(X_test)[:,1]\n",
    "prec_score_10(y_test, y_pred_xgb_proba)"
   ]
  },
  {
   "cell_type": "code",
   "execution_count": 27,
   "metadata": {},
   "outputs": [],
   "source": [
    "results = pd.DataFrame({\"y_pred\": y_pred_xgb, \"y_pred_proba\": y_pred_xgb_proba})\n",
    "results.to_csv(\"xgb_results.csv\", index=False)"
   ]
  },
  {
   "cell_type": "markdown",
   "metadata": {},
   "source": [
    "### Grid search"
   ]
  },
  {
   "cell_type": "markdown",
   "metadata": {},
   "source": [
    "#### 1. max_depthm, min_child_weight"
   ]
  },
  {
   "cell_type": "code",
   "execution_count": null,
   "metadata": {},
   "outputs": [],
   "source": [
    "param_grid1 = {\n",
    "    \"max_depth\": range(3, 10, 2),\n",
    "    'min_child_weight': range(1,6,2),\n",
    "}"
   ]
  },
  {
   "cell_type": "code",
   "execution_count": null,
   "metadata": {},
   "outputs": [],
   "source": [
    "xgb_model = xgboost.XGBClassifier(**xgb_params, seed=123)\n",
    "gsearch1 = GridSearchCV(xgb_model, param_grid = param_grid1, scoring='roc_auc', cv=5, verbose=10, n_jobs=-1)\n",
    "gsearch1.fit(X_train[important_features], y_train)"
   ]
  },
  {
   "cell_type": "code",
   "execution_count": null,
   "metadata": {},
   "outputs": [],
   "source": [
    "gsearch1.best_params_"
   ]
  },
  {
   "cell_type": "markdown",
   "metadata": {},
   "source": [
    "#### 2. gamma"
   ]
  },
  {
   "cell_type": "code",
   "execution_count": null,
   "metadata": {},
   "outputs": [],
   "source": [
    "param_grid2 = {\n",
    "    \"gamma\": [i/10.0 for i in range(0,20)]\n",
    "}"
   ]
  },
  {
   "cell_type": "code",
   "execution_count": null,
   "metadata": {},
   "outputs": [],
   "source": [
    "xgb_model = xgboost.XGBClassifier(**xgb_params, seed=123)\n",
    "gsearch2 = GridSearchCV(xgb_model, param_grid = param_grid2, scoring='roc_auc', cv=5, verbose=10, n_jobs=-1)\n",
    "gsearch2.fit(X_train[important_features], y_train)"
   ]
  },
  {
   "cell_type": "code",
   "execution_count": null,
   "metadata": {},
   "outputs": [],
   "source": [
    "gsearch2.best_params_"
   ]
  },
  {
   "cell_type": "markdown",
   "metadata": {},
   "source": [
    "#### 3. subsample, colsample_bytree"
   ]
  },
  {
   "cell_type": "code",
   "execution_count": null,
   "metadata": {},
   "outputs": [],
   "source": [
    "param_grid3 = {\n",
    "    \"subsample\": [i/10.0 for i in range(6,10)],\n",
    "    \"colsample_bytree\": [i/10.0 for i in range(4,10)]\n",
    "}"
   ]
  },
  {
   "cell_type": "code",
   "execution_count": null,
   "metadata": {},
   "outputs": [],
   "source": [
    "xgb_model = xgboost.XGBClassifier(**xgb_params, seed=123)\n",
    "gsearch3 = GridSearchCV(xgb_model, param_grid = param_grid3, scoring='roc_auc', cv=5, verbose=10, n_jobs=-1)\n",
    "gsearch3.fit(X_train[important_features], y_train)"
   ]
  },
  {
   "cell_type": "code",
   "execution_count": null,
   "metadata": {},
   "outputs": [],
   "source": [
    "gsearch3.best_params_"
   ]
  },
  {
   "cell_type": "markdown",
   "metadata": {},
   "source": [
    "#### 4. reg_param"
   ]
  },
  {
   "cell_type": "code",
   "execution_count": null,
   "metadata": {},
   "outputs": [],
   "source": [
    "param_grid4 = {\n",
    " 'reg_alpha':[0, 0.001, 0.005, 0.01, 0.05]\n",
    "}"
   ]
  },
  {
   "cell_type": "code",
   "execution_count": null,
   "metadata": {},
   "outputs": [],
   "source": [
    "xgb_model = xgboost.XGBClassifier(**xgb_params, seed=123)\n",
    "gsearch4 = GridSearchCV(xgb_model, param_grid = param_grid4, scoring='roc_auc', cv=5, verbose=10, n_jobs=-1)\n",
    "gsearch4.fit(X_train[important_features], y_train)"
   ]
  },
  {
   "cell_type": "code",
   "execution_count": null,
   "metadata": {},
   "outputs": [],
   "source": [
    "gsearch4.best_params_"
   ]
  },
  {
   "cell_type": "markdown",
   "metadata": {},
   "source": [
    "#### 5. learning_rate"
   ]
  },
  {
   "cell_type": "code",
   "execution_count": null,
   "metadata": {},
   "outputs": [],
   "source": [
    "param_grid5 = {\n",
    "    \"learning_rate\": [0.01, 0.05, 0.1],\n",
    "    \"n_estimators\": [400, 1000, 5000]\n",
    "}"
   ]
  },
  {
   "cell_type": "code",
   "execution_count": null,
   "metadata": {},
   "outputs": [],
   "source": [
    "xgb_model = xgboost.XGBClassifier(**xgb_params, seed=123)\n",
    "gsearch5 = GridSearchCV(xgb_model, param_grid = param_grid5, scoring='roc_auc', cv=5, verbose=10, n_jobs=-1)\n",
    "gsearch5.fit(X_train[important_features], y_train)"
   ]
  },
  {
   "cell_type": "code",
   "execution_count": null,
   "metadata": {},
   "outputs": [],
   "source": [
    "gsearch5.best_params_"
   ]
  },
  {
   "cell_type": "markdown",
   "metadata": {},
   "source": [
    "### LightGBM model"
   ]
  },
  {
   "cell_type": "code",
   "execution_count": 28,
   "metadata": {},
   "outputs": [],
   "source": [
    "lgb_params = {\n",
    "    \"bagging_fraction\": 0.8,\n",
    "    \"feature_fraction\": 0.8,\n",
    "    \"learning_rate\": 0.01,\n",
    "    \"max_bin\": 100,\n",
    "    \"max_depth\": -1,\n",
    "    \"n_estimators\": 100,\n",
    "    \"num_leaves\": 20,\n",
    "    \"scale_pos_weight\": 2\n",
    "}"
   ]
  },
  {
   "cell_type": "code",
   "execution_count": 29,
   "metadata": {},
   "outputs": [],
   "source": [
    "lgb_model = lightgbm.LGBMClassifier(**lgb_params, n_jobs=8)"
   ]
  },
  {
   "cell_type": "code",
   "execution_count": 30,
   "metadata": {},
   "outputs": [
    {
     "data": {
      "text/plain": [
       "LGBMClassifier(bagging_fraction=0.8, boosting_type='gbdt', class_weight=None,\n",
       "        colsample_bytree=1.0, feature_fraction=0.8,\n",
       "        importance_type='split', learning_rate=0.01, max_bin=100,\n",
       "        max_depth=-1, min_child_samples=20, min_child_weight=0.001,\n",
       "        min_split_gain=0.0, n_estimators=100, n_jobs=8, num_leaves=20,\n",
       "        objective=None, random_state=None, reg_alpha=0.0, reg_lambda=0.0,\n",
       "        scale_pos_weight=2, silent=True, subsample=1.0,\n",
       "        subsample_for_bin=200000, subsample_freq=0)"
      ]
     },
     "execution_count": 30,
     "metadata": {},
     "output_type": "execute_result"
    }
   ],
   "source": [
    "eval_set = [(X_test, y_test)]\n",
    "lgb_model.fit(X_train, y_train, early_stopping_rounds=100, eval_metric=\"auc\", eval_set=eval_set, verbose=False)"
   ]
  },
  {
   "cell_type": "code",
   "execution_count": 31,
   "metadata": {},
   "outputs": [
    {
     "data": {
      "text/plain": [
       "(0.92775, 0.0051635111876075735, 1.0)"
      ]
     },
     "execution_count": 31,
     "metadata": {},
     "output_type": "execute_result"
    }
   ],
   "source": [
    "y_pred_lgb = lgb_model.predict(X_test)\n",
    "calculate_scores(y_test, y_pred_lgb)"
   ]
  },
  {
   "cell_type": "code",
   "execution_count": 32,
   "metadata": {},
   "outputs": [
    {
     "data": {
      "text/plain": [
       "(0.41198501872659177, 0.8743447013169656)"
      ]
     },
     "execution_count": 32,
     "metadata": {},
     "output_type": "execute_result"
    }
   ],
   "source": [
    "y_pred_lgb_proba = lgb_model.predict_proba(X_test)[:, 1]\n",
    "prec_score_10(y_test, y_pred_lgb_proba)"
   ]
  },
  {
   "cell_type": "code",
   "execution_count": 33,
   "metadata": {},
   "outputs": [],
   "source": [
    "results = pd.DataFrame({\"y_pred\": y_pred_lgb, \"y_pred_proba\": y_pred_lgb_proba})\n",
    "results.to_csv(\"lgb_results.csv\", index=False)"
   ]
  },
  {
   "cell_type": "markdown",
   "metadata": {},
   "source": [
    "### Grid search"
   ]
  },
  {
   "cell_type": "code",
   "execution_count": null,
   "metadata": {},
   "outputs": [],
   "source": [
    "param_grid = {\n",
    "    \"max_depth\": [-1, 100],\n",
    "    \"learning_rate\" : [0.1],\n",
    "    \"num_leaves\": [20, 31, 50],\n",
    "    \"n_estimators\": [200],\n",
    "    \"max_bin\": [100, 150, 255],\n",
    "    \"bagging_fraction\": [0.8, 0.9, 1],\n",
    "    \"feature_fraction\": [0.8, 0.9, 1]\n",
    "}"
   ]
  },
  {
   "cell_type": "code",
   "execution_count": null,
   "metadata": {},
   "outputs": [],
   "source": [
    "grid_search = GridSearchCV(lgb_model, n_jobs=-1, param_grid=param_grid, cv = 3, scoring=\"roc_auc\", verbose=10)\n",
    "grid_search.fit(X_train[important_features], y_train)\n",
    "grid_search.best_estimator_"
   ]
  },
  {
   "cell_type": "markdown",
   "metadata": {},
   "source": [
    "### CatBoost model"
   ]
  },
  {
   "cell_type": "code",
   "execution_count": 34,
   "metadata": {},
   "outputs": [],
   "source": [
    "X_train_cat = X_train.fillna(-1)\n",
    "X_test_cat = X_test.fillna(-1)"
   ]
  },
  {
   "cell_type": "code",
   "execution_count": 35,
   "metadata": {},
   "outputs": [],
   "source": [
    "cat_model = catboost.CatBoostClassifier(\n",
    "    cat_features=X_train_cat.select_dtypes(exclude=[\"number\"]).columns, \n",
    "    scale_pos_weight=weight_ratio(y_train))"
   ]
  },
  {
   "cell_type": "code",
   "execution_count": 36,
   "metadata": {},
   "outputs": [
    {
     "data": {
      "text/plain": [
       "<catboost.core.CatBoostClassifier at 0x28b3a7e8d68>"
      ]
     },
     "execution_count": 36,
     "metadata": {},
     "output_type": "execute_result"
    }
   ],
   "source": [
    "eval_set = [(X_test_cat, y_test)]\n",
    "cat_model.fit(X_train, y_train, early_stopping_rounds=100, eval_set=eval_set, verbose=False)"
   ]
  },
  {
   "cell_type": "code",
   "execution_count": 37,
   "metadata": {},
   "outputs": [
    {
     "data": {
      "text/plain": [
       "(0.783625, 0.729776247848537, 0.2122122122122122)"
      ]
     },
     "execution_count": 37,
     "metadata": {},
     "output_type": "execute_result"
    }
   ],
   "source": [
    "y_pred_cat = cat_model.predict(X_test)\n",
    "calculate_scores(y_test, y_pred_cat)"
   ]
  },
  {
   "cell_type": "code",
   "execution_count": 38,
   "metadata": {},
   "outputs": [
    {
     "data": {
      "text/plain": [
       "(0.4132334581772784, 0.8697724292119665)"
      ]
     },
     "execution_count": 38,
     "metadata": {},
     "output_type": "execute_result"
    }
   ],
   "source": [
    "y_pred_cat_proba = cat_model.predict_proba(X_test)[:, 1]\n",
    "prec_score_10(y_test, y_pred_cat_proba)"
   ]
  },
  {
   "cell_type": "code",
   "execution_count": 39,
   "metadata": {},
   "outputs": [],
   "source": [
    "results = pd.DataFrame({\"y_pred\": y_pred_cat, \"y_pred_proba\": y_pred_cat_proba})\n",
    "results.to_csv(\"cat_results.csv\", index=False)"
   ]
  },
  {
   "cell_type": "markdown",
   "metadata": {},
   "source": [
    "### Random Forest model"
   ]
  },
  {
   "cell_type": "code",
   "execution_count": 40,
   "metadata": {},
   "outputs": [],
   "source": [
    "rf_params = {\n",
    " 'n_estimators': 1400,\n",
    " 'min_samples_split': 10,\n",
    " 'min_samples_leaf': 4,\n",
    " 'max_features': 'sqrt',\n",
    " 'max_depth': 40,\n",
    " 'bootstrap': False,\n",
    " 'class_weight': \"balanced\"\n",
    "}"
   ]
  },
  {
   "cell_type": "code",
   "execution_count": 41,
   "metadata": {},
   "outputs": [
    {
     "data": {
      "text/plain": [
       "RandomForestClassifier(bootstrap=False, class_weight='balanced',\n",
       "            criterion='gini', max_depth=40, max_features='sqrt',\n",
       "            max_leaf_nodes=None, min_impurity_decrease=0.0,\n",
       "            min_impurity_split=None, min_samples_leaf=4,\n",
       "            min_samples_split=10, min_weight_fraction_leaf=0.0,\n",
       "            n_estimators=1400, n_jobs=None, oob_score=False,\n",
       "            random_state=None, verbose=0, warm_start=False)"
      ]
     },
     "execution_count": 41,
     "metadata": {},
     "output_type": "execute_result"
    }
   ],
   "source": [
    "rf_model = RandomForestClassifier(**rf_params)\n",
    "rf_model.fit(X_train, y_train)"
   ]
  },
  {
   "cell_type": "code",
   "execution_count": 42,
   "metadata": {},
   "outputs": [
    {
     "data": {
      "text/plain": [
       "(0.952875, 0.4457831325301205, 0.8248407643312102)"
      ]
     },
     "execution_count": 42,
     "metadata": {},
     "output_type": "execute_result"
    }
   ],
   "source": [
    "y_pred_rf = rf_model.predict(X_test)\n",
    "calculate_scores(y_test, y_pred_rf)"
   ]
  },
  {
   "cell_type": "code",
   "execution_count": 43,
   "metadata": {},
   "outputs": [
    {
     "data": {
      "text/plain": [
       "(0.418227215980025, 0.8639319568146075)"
      ]
     },
     "execution_count": 43,
     "metadata": {},
     "output_type": "execute_result"
    }
   ],
   "source": [
    "y_pred_rf_proba = rf_model.predict_proba(X_test)[:, 1]\n",
    "prec_score_10(y_test, y_pred_rf_proba)"
   ]
  },
  {
   "cell_type": "code",
   "execution_count": 44,
   "metadata": {},
   "outputs": [],
   "source": [
    "results = pd.DataFrame({\"y_pred\": y_pred_rf, \"y_pred_proba\": y_pred_rf_proba})\n",
    "results.to_csv(\"rf_results.csv\", index=False)"
   ]
  },
  {
   "cell_type": "markdown",
   "metadata": {},
   "source": [
    "### Grid search"
   ]
  },
  {
   "cell_type": "code",
   "execution_count": null,
   "metadata": {},
   "outputs": [],
   "source": [
    "n_estimators = list(range(500, 2000, 100))\n",
    "max_features = ['auto', 'sqrt']\n",
    "max_depth = list(range(20, 120, 20))\n",
    "max_depth.append(None)\n",
    "min_samples_split = [2, 5, 10]\n",
    "min_samples_leaf = [1, 2, 4]\n",
    "bootstrap = [True, False]\n",
    "\n",
    "random_grid = {\n",
    "    'n_estimators': n_estimators,\n",
    "    'max_features': max_features,\n",
    "    'max_depth': max_depth,\n",
    "    'min_samples_split': min_samples_split,\n",
    "    'min_samples_leaf': min_samples_leaf,\n",
    "    'bootstrap': bootstrap\n",
    "}"
   ]
  },
  {
   "cell_type": "code",
   "execution_count": null,
   "metadata": {},
   "outputs": [],
   "source": [
    "rf_random = RandomizedSearchCV(estimator=rf_model, param_distributions=random_grid, n_iter=20, cv=3, verbose=10, random_state=123, n_jobs=-1)\n",
    "rf_random.fit(X_train, y_train)"
   ]
  },
  {
   "cell_type": "code",
   "execution_count": null,
   "metadata": {},
   "outputs": [],
   "source": [
    "rf_random.best_params_"
   ]
  },
  {
   "cell_type": "markdown",
   "metadata": {},
   "source": [
    "## Finalna kros walidacja"
   ]
  },
  {
   "cell_type": "code",
   "execution_count": null,
   "metadata": {},
   "outputs": [],
   "source": [
    "def final_cv(model1, model2, X, y, n_splits=5, verbose=False):\n",
    "    prec10_mod1 = []\n",
    "    auc_mod1 = []\n",
    "    prec10_mod2 = []\n",
    "    auc_mod2 = []\n",
    "    kf = KFold(n_splits=n_splits)\n",
    "    \n",
    "    for train_index, test_index in kf.split(X):\n",
    "        X_train, X_test = X.iloc[train_index, :], X.iloc[test_index, :]\n",
    "        y_train, y_test = y.iloc[train_index], y.iloc[test_index]\n",
    "        X_train, X_test = data_transformation(X_train, X_test, y_train)\n",
    "        \n",
    "        eval_set = [(X_test, y_test)]\n",
    "        model1.fit(X_train, y_train, early_stopping_rounds=100, eval_metric=\"auc\", eval_set=eval_set, verbose=verbose)\n",
    "        model2.fit(X_train, y_train, early_stopping_rounds=100, eval_metric=\"auc\", eval_set=eval_set, verbose=verbose)\n",
    "        y_pred_1_proba = model1.predict_proba(X_test)[:,1]\n",
    "        prec10_1, auc_1 = prec_score_10(y_test, y_pred_1_proba)\n",
    "        y_pred_2_proba = model2.predict_proba(X_test)[:,1]\n",
    "        prec10_2, auc_2 = prec_score_10(y_test, y_pred_2_proba)\n",
    "\n",
    "        prec10_mod1.append(prec10_1)\n",
    "        auc_mod1.append(auc_1)\n",
    "        prec10_mod2.append(prec10_2)\n",
    "        auc_mod2.append(auc_2)\n",
    "\n",
    "    prec10_mod1 = np.array(prec10_mod1)\n",
    "    auc_mod1 = np.array(auc_mod1)\n",
    "    prec10_mod2 = np.array(prec10_mod2)\n",
    "    auc_mod2 = np.array(auc_mod2)\n",
    "    \n",
    "    return prec10_mod1, auc_mod1, prec10_mod2, auc_mod2"
   ]
  },
  {
   "cell_type": "code",
   "execution_count": null,
   "metadata": {},
   "outputs": [],
   "source": [
    "prec10_mod1, auc_mod1, prec10_mod2, auc_mod2 = final_cv(xgb_model, lgb_model, X_train, y_train, 10)"
   ]
  },
  {
   "cell_type": "code",
   "execution_count": null,
   "metadata": {},
   "outputs": [],
   "source": [
    "prec10_mod1.mean(), auc_mod1.mean(), prec10_mod2.mean(), auc_mod2.mean()"
   ]
  },
  {
   "cell_type": "code",
   "execution_count": null,
   "metadata": {},
   "outputs": [],
   "source": [
    "prec10_mod1.std(), auc_mod1.std(), prec10_mod2.std(), auc_mod2.std()"
   ]
  },
  {
   "cell_type": "markdown",
   "metadata": {},
   "source": [
    "## Badanie ważności zmiennych"
   ]
  },
  {
   "cell_type": "code",
   "execution_count": 45,
   "metadata": {},
   "outputs": [],
   "source": [
    "def model_specific_feature_importance(features, values, n=30):\n",
    "    feature_importances = pd.DataFrame({\"feature\": features, \"values\": values})\n",
    "    feature_importances = feature_importances.sort_values(\"values\", ascending=False).head(n)\n",
    "    sns.set(rc={'figure.figsize':(8,12)}, style=\"whitegrid\")\n",
    "    sns.barplot(data = feature_importances, x = \"values\", y=\"feature\", color=\"#208ce4\") #, order=feature_importances.sort_values(\"values\", ascending=False)[\"feature\"])\n",
    "    plt.title(\"Model specific feature importance\", size = 16)\n",
    "    plt.ylabel(\"\")\n",
    "    plt.xlabel(\"coef\")\n",
    "    return feature_importances[\"feature\"].head(n)"
   ]
  },
  {
   "cell_type": "code",
   "execution_count": 46,
   "metadata": {},
   "outputs": [],
   "source": [
    "def shap_feature_importance(model, X_train):\n",
    "    tree_explainer = shap.TreeExplainer(model)\n",
    "    tree_shap_values = tree_explainer.shap_values(X_train)\n",
    "    shap.summary_plot(tree_shap_values, X_train, plot_type=\"bar\")"
   ]
  },
  {
   "cell_type": "code",
   "execution_count": 47,
   "metadata": {},
   "outputs": [
    {
     "data": {
      "image/png": "[encoded data removed]",
      "text/plain": [
       "<Figure size 576x864 with 1 Axes>"
      ]
     },
     "metadata": {},
     "output_type": "display_data"
    }
   ],
   "source": [
    "# Important features potrzebne jest do fitowania modeli w GridSearchCV\n",
    "important_features = model_specific_feature_importance(X_train.columns, lgb_model.feature_importances_)"
   ]
  },
  {
   "cell_type": "code",
   "execution_count": 48,
   "metadata": {},
   "outputs": [
    {
     "data": {
      "image/png": "[encoded data removed]",
      "text/plain": [
       "<Figure size 576x684 with 1 Axes>"
      ]
     },
     "metadata": {},
     "output_type": "display_data"
    }
   ],
   "source": [
    "shap_feature_importance(lgb_model, X_train)"
   ]
  },
  {
   "cell_type": "markdown",
   "metadata": {},
   "source": [
    "## Zapisanie najlepszego wyniku"
   ]
  },
  {
   "cell_type": "code",
   "execution_count": null,
   "metadata": {},
   "outputs": [],
   "source": [
    "np.savetxt(\"WOJCEL.txt\", y_pred_lgb_proba, fmt='%.18f',)"
   ]
  }
 ],
 "metadata": {
  "kernelspec": {
   "display_name": "Python 3",
   "language": "python",
   "name": "python3"
  },
  "language_info": {
   "codemirror_mode": {
    "name": "ipython",
    "version": 3
   },
   "file_extension": ".py",
   "mimetype": "text/x-python",
   "name": "python",
   "nbconvert_exporter": "python",
   "pygments_lexer": "ipython3",
   "version": "3.7.2"
  }
 },
 "nbformat": 4,
 "nbformat_minor": 2
}
